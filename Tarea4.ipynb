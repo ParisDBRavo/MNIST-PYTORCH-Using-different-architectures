{
  "nbformat": 4,
  "nbformat_minor": 0,
  "metadata": {
    "colab": {
      "provenance": [],
      "collapsed_sections": [],
      "toc_visible": true,
      "authorship_tag": "ABX9TyPrEriq29tejzHEoUvf/L+l",
      "include_colab_link": true
    },
    "kernelspec": {
      "name": "python3",
      "display_name": "Python 3"
    },
    "language_info": {
      "name": "python"
    },
    "widgets": {
      "application/vnd.jupyter.widget-state+json": {
        "a83f59e4e0e540ccb04feb31504ab18c": {
          "model_module": "@jupyter-widgets/controls",
          "model_name": "HBoxModel",
          "model_module_version": "1.5.0",
          "state": {
            "_dom_classes": [],
            "_model_module": "@jupyter-widgets/controls",
            "_model_module_version": "1.5.0",
            "_model_name": "HBoxModel",
            "_view_count": null,
            "_view_module": "@jupyter-widgets/controls",
            "_view_module_version": "1.5.0",
            "_view_name": "HBoxView",
            "box_style": "",
            "children": [
              "IPY_MODEL_25f9245f73ea4928a5e9b454581f5576",
              "IPY_MODEL_d2bafa43c66e4d208b36337a2eee7df4",
              "IPY_MODEL_e384d0c369bb45ec8e2893c09d621648"
            ],
            "layout": "IPY_MODEL_0689ebda76364a929bb8f9e526148065"
          }
        },
        "25f9245f73ea4928a5e9b454581f5576": {
          "model_module": "@jupyter-widgets/controls",
          "model_name": "HTMLModel",
          "model_module_version": "1.5.0",
          "state": {
            "_dom_classes": [],
            "_model_module": "@jupyter-widgets/controls",
            "_model_module_version": "1.5.0",
            "_model_name": "HTMLModel",
            "_view_count": null,
            "_view_module": "@jupyter-widgets/controls",
            "_view_module_version": "1.5.0",
            "_view_name": "HTMLView",
            "description": "",
            "description_tooltip": null,
            "layout": "IPY_MODEL_417f68d4be074f0a96ca1972f09a0c1a",
            "placeholder": "​",
            "style": "IPY_MODEL_1dc59b6f47744bf08b6864113ddd3e04",
            "value": "100%"
          }
        },
        "d2bafa43c66e4d208b36337a2eee7df4": {
          "model_module": "@jupyter-widgets/controls",
          "model_name": "FloatProgressModel",
          "model_module_version": "1.5.0",
          "state": {
            "_dom_classes": [],
            "_model_module": "@jupyter-widgets/controls",
            "_model_module_version": "1.5.0",
            "_model_name": "FloatProgressModel",
            "_view_count": null,
            "_view_module": "@jupyter-widgets/controls",
            "_view_module_version": "1.5.0",
            "_view_name": "ProgressView",
            "bar_style": "success",
            "description": "",
            "description_tooltip": null,
            "layout": "IPY_MODEL_de90102a55724c7286e1415200d6a418",
            "max": 20,
            "min": 0,
            "orientation": "horizontal",
            "style": "IPY_MODEL_d8e4339cfb99483d85df4d1a305f3554",
            "value": 20
          }
        },
        "e384d0c369bb45ec8e2893c09d621648": {
          "model_module": "@jupyter-widgets/controls",
          "model_name": "HTMLModel",
          "model_module_version": "1.5.0",
          "state": {
            "_dom_classes": [],
            "_model_module": "@jupyter-widgets/controls",
            "_model_module_version": "1.5.0",
            "_model_name": "HTMLModel",
            "_view_count": null,
            "_view_module": "@jupyter-widgets/controls",
            "_view_module_version": "1.5.0",
            "_view_name": "HTMLView",
            "description": "",
            "description_tooltip": null,
            "layout": "IPY_MODEL_6a52381c50bc4e0e92843dfd890b00cd",
            "placeholder": "​",
            "style": "IPY_MODEL_30955d7d41d14c7f9565502cc63ee6bc",
            "value": " 20/20 [06:06&lt;00:00, 19.31s/it]"
          }
        },
        "0689ebda76364a929bb8f9e526148065": {
          "model_module": "@jupyter-widgets/base",
          "model_name": "LayoutModel",
          "model_module_version": "1.2.0",
          "state": {
            "_model_module": "@jupyter-widgets/base",
            "_model_module_version": "1.2.0",
            "_model_name": "LayoutModel",
            "_view_count": null,
            "_view_module": "@jupyter-widgets/base",
            "_view_module_version": "1.2.0",
            "_view_name": "LayoutView",
            "align_content": null,
            "align_items": null,
            "align_self": null,
            "border": null,
            "bottom": null,
            "display": null,
            "flex": null,
            "flex_flow": null,
            "grid_area": null,
            "grid_auto_columns": null,
            "grid_auto_flow": null,
            "grid_auto_rows": null,
            "grid_column": null,
            "grid_gap": null,
            "grid_row": null,
            "grid_template_areas": null,
            "grid_template_columns": null,
            "grid_template_rows": null,
            "height": null,
            "justify_content": null,
            "justify_items": null,
            "left": null,
            "margin": null,
            "max_height": null,
            "max_width": null,
            "min_height": null,
            "min_width": null,
            "object_fit": null,
            "object_position": null,
            "order": null,
            "overflow": null,
            "overflow_x": null,
            "overflow_y": null,
            "padding": null,
            "right": null,
            "top": null,
            "visibility": null,
            "width": null
          }
        },
        "417f68d4be074f0a96ca1972f09a0c1a": {
          "model_module": "@jupyter-widgets/base",
          "model_name": "LayoutModel",
          "model_module_version": "1.2.0",
          "state": {
            "_model_module": "@jupyter-widgets/base",
            "_model_module_version": "1.2.0",
            "_model_name": "LayoutModel",
            "_view_count": null,
            "_view_module": "@jupyter-widgets/base",
            "_view_module_version": "1.2.0",
            "_view_name": "LayoutView",
            "align_content": null,
            "align_items": null,
            "align_self": null,
            "border": null,
            "bottom": null,
            "display": null,
            "flex": null,
            "flex_flow": null,
            "grid_area": null,
            "grid_auto_columns": null,
            "grid_auto_flow": null,
            "grid_auto_rows": null,
            "grid_column": null,
            "grid_gap": null,
            "grid_row": null,
            "grid_template_areas": null,
            "grid_template_columns": null,
            "grid_template_rows": null,
            "height": null,
            "justify_content": null,
            "justify_items": null,
            "left": null,
            "margin": null,
            "max_height": null,
            "max_width": null,
            "min_height": null,
            "min_width": null,
            "object_fit": null,
            "object_position": null,
            "order": null,
            "overflow": null,
            "overflow_x": null,
            "overflow_y": null,
            "padding": null,
            "right": null,
            "top": null,
            "visibility": null,
            "width": null
          }
        },
        "1dc59b6f47744bf08b6864113ddd3e04": {
          "model_module": "@jupyter-widgets/controls",
          "model_name": "DescriptionStyleModel",
          "model_module_version": "1.5.0",
          "state": {
            "_model_module": "@jupyter-widgets/controls",
            "_model_module_version": "1.5.0",
            "_model_name": "DescriptionStyleModel",
            "_view_count": null,
            "_view_module": "@jupyter-widgets/base",
            "_view_module_version": "1.2.0",
            "_view_name": "StyleView",
            "description_width": ""
          }
        },
        "de90102a55724c7286e1415200d6a418": {
          "model_module": "@jupyter-widgets/base",
          "model_name": "LayoutModel",
          "model_module_version": "1.2.0",
          "state": {
            "_model_module": "@jupyter-widgets/base",
            "_model_module_version": "1.2.0",
            "_model_name": "LayoutModel",
            "_view_count": null,
            "_view_module": "@jupyter-widgets/base",
            "_view_module_version": "1.2.0",
            "_view_name": "LayoutView",
            "align_content": null,
            "align_items": null,
            "align_self": null,
            "border": null,
            "bottom": null,
            "display": null,
            "flex": null,
            "flex_flow": null,
            "grid_area": null,
            "grid_auto_columns": null,
            "grid_auto_flow": null,
            "grid_auto_rows": null,
            "grid_column": null,
            "grid_gap": null,
            "grid_row": null,
            "grid_template_areas": null,
            "grid_template_columns": null,
            "grid_template_rows": null,
            "height": null,
            "justify_content": null,
            "justify_items": null,
            "left": null,
            "margin": null,
            "max_height": null,
            "max_width": null,
            "min_height": null,
            "min_width": null,
            "object_fit": null,
            "object_position": null,
            "order": null,
            "overflow": null,
            "overflow_x": null,
            "overflow_y": null,
            "padding": null,
            "right": null,
            "top": null,
            "visibility": null,
            "width": null
          }
        },
        "d8e4339cfb99483d85df4d1a305f3554": {
          "model_module": "@jupyter-widgets/controls",
          "model_name": "ProgressStyleModel",
          "model_module_version": "1.5.0",
          "state": {
            "_model_module": "@jupyter-widgets/controls",
            "_model_module_version": "1.5.0",
            "_model_name": "ProgressStyleModel",
            "_view_count": null,
            "_view_module": "@jupyter-widgets/base",
            "_view_module_version": "1.2.0",
            "_view_name": "StyleView",
            "bar_color": null,
            "description_width": ""
          }
        },
        "6a52381c50bc4e0e92843dfd890b00cd": {
          "model_module": "@jupyter-widgets/base",
          "model_name": "LayoutModel",
          "model_module_version": "1.2.0",
          "state": {
            "_model_module": "@jupyter-widgets/base",
            "_model_module_version": "1.2.0",
            "_model_name": "LayoutModel",
            "_view_count": null,
            "_view_module": "@jupyter-widgets/base",
            "_view_module_version": "1.2.0",
            "_view_name": "LayoutView",
            "align_content": null,
            "align_items": null,
            "align_self": null,
            "border": null,
            "bottom": null,
            "display": null,
            "flex": null,
            "flex_flow": null,
            "grid_area": null,
            "grid_auto_columns": null,
            "grid_auto_flow": null,
            "grid_auto_rows": null,
            "grid_column": null,
            "grid_gap": null,
            "grid_row": null,
            "grid_template_areas": null,
            "grid_template_columns": null,
            "grid_template_rows": null,
            "height": null,
            "justify_content": null,
            "justify_items": null,
            "left": null,
            "margin": null,
            "max_height": null,
            "max_width": null,
            "min_height": null,
            "min_width": null,
            "object_fit": null,
            "object_position": null,
            "order": null,
            "overflow": null,
            "overflow_x": null,
            "overflow_y": null,
            "padding": null,
            "right": null,
            "top": null,
            "visibility": null,
            "width": null
          }
        },
        "30955d7d41d14c7f9565502cc63ee6bc": {
          "model_module": "@jupyter-widgets/controls",
          "model_name": "DescriptionStyleModel",
          "model_module_version": "1.5.0",
          "state": {
            "_model_module": "@jupyter-widgets/controls",
            "_model_module_version": "1.5.0",
            "_model_name": "DescriptionStyleModel",
            "_view_count": null,
            "_view_module": "@jupyter-widgets/base",
            "_view_module_version": "1.2.0",
            "_view_name": "StyleView",
            "description_width": ""
          }
        },
        "f38cbfb18d074aeebdaf8a975880b1a5": {
          "model_module": "@jupyter-widgets/controls",
          "model_name": "HBoxModel",
          "model_module_version": "1.5.0",
          "state": {
            "_dom_classes": [],
            "_model_module": "@jupyter-widgets/controls",
            "_model_module_version": "1.5.0",
            "_model_name": "HBoxModel",
            "_view_count": null,
            "_view_module": "@jupyter-widgets/controls",
            "_view_module_version": "1.5.0",
            "_view_name": "HBoxView",
            "box_style": "",
            "children": [
              "IPY_MODEL_7036a20eb1f54ab6a353b939a47ff690",
              "IPY_MODEL_f0193c33fae344f9b0b1a735d350de26",
              "IPY_MODEL_de5a9b96131d46e5a6b71a56a9086184"
            ],
            "layout": "IPY_MODEL_ee5dec7dffcf4d2f9841003b9949ccca"
          }
        },
        "7036a20eb1f54ab6a353b939a47ff690": {
          "model_module": "@jupyter-widgets/controls",
          "model_name": "HTMLModel",
          "model_module_version": "1.5.0",
          "state": {
            "_dom_classes": [],
            "_model_module": "@jupyter-widgets/controls",
            "_model_module_version": "1.5.0",
            "_model_name": "HTMLModel",
            "_view_count": null,
            "_view_module": "@jupyter-widgets/controls",
            "_view_module_version": "1.5.0",
            "_view_name": "HTMLView",
            "description": "",
            "description_tooltip": null,
            "layout": "IPY_MODEL_315edb91c7b1433bb3472769952421fd",
            "placeholder": "​",
            "style": "IPY_MODEL_f69d20f96db24e538d08d910abb6f273",
            "value": "100%"
          }
        },
        "f0193c33fae344f9b0b1a735d350de26": {
          "model_module": "@jupyter-widgets/controls",
          "model_name": "FloatProgressModel",
          "model_module_version": "1.5.0",
          "state": {
            "_dom_classes": [],
            "_model_module": "@jupyter-widgets/controls",
            "_model_module_version": "1.5.0",
            "_model_name": "FloatProgressModel",
            "_view_count": null,
            "_view_module": "@jupyter-widgets/controls",
            "_view_module_version": "1.5.0",
            "_view_name": "ProgressView",
            "bar_style": "success",
            "description": "",
            "description_tooltip": null,
            "layout": "IPY_MODEL_e424bc312a6344d8852cae334cf26321",
            "max": 26421880,
            "min": 0,
            "orientation": "horizontal",
            "style": "IPY_MODEL_f1e324b0156e4f7eb2a145c61a9e7d0f",
            "value": 26421880
          }
        },
        "de5a9b96131d46e5a6b71a56a9086184": {
          "model_module": "@jupyter-widgets/controls",
          "model_name": "HTMLModel",
          "model_module_version": "1.5.0",
          "state": {
            "_dom_classes": [],
            "_model_module": "@jupyter-widgets/controls",
            "_model_module_version": "1.5.0",
            "_model_name": "HTMLModel",
            "_view_count": null,
            "_view_module": "@jupyter-widgets/controls",
            "_view_module_version": "1.5.0",
            "_view_name": "HTMLView",
            "description": "",
            "description_tooltip": null,
            "layout": "IPY_MODEL_08fe7d1f7b974f8883e2fc3b9d165f86",
            "placeholder": "​",
            "style": "IPY_MODEL_42ca7128cc774f53a17d32515425f4c1",
            "value": " 26421880/26421880 [00:01&lt;00:00, 25787579.70it/s]"
          }
        },
        "ee5dec7dffcf4d2f9841003b9949ccca": {
          "model_module": "@jupyter-widgets/base",
          "model_name": "LayoutModel",
          "model_module_version": "1.2.0",
          "state": {
            "_model_module": "@jupyter-widgets/base",
            "_model_module_version": "1.2.0",
            "_model_name": "LayoutModel",
            "_view_count": null,
            "_view_module": "@jupyter-widgets/base",
            "_view_module_version": "1.2.0",
            "_view_name": "LayoutView",
            "align_content": null,
            "align_items": null,
            "align_self": null,
            "border": null,
            "bottom": null,
            "display": null,
            "flex": null,
            "flex_flow": null,
            "grid_area": null,
            "grid_auto_columns": null,
            "grid_auto_flow": null,
            "grid_auto_rows": null,
            "grid_column": null,
            "grid_gap": null,
            "grid_row": null,
            "grid_template_areas": null,
            "grid_template_columns": null,
            "grid_template_rows": null,
            "height": null,
            "justify_content": null,
            "justify_items": null,
            "left": null,
            "margin": null,
            "max_height": null,
            "max_width": null,
            "min_height": null,
            "min_width": null,
            "object_fit": null,
            "object_position": null,
            "order": null,
            "overflow": null,
            "overflow_x": null,
            "overflow_y": null,
            "padding": null,
            "right": null,
            "top": null,
            "visibility": null,
            "width": null
          }
        },
        "315edb91c7b1433bb3472769952421fd": {
          "model_module": "@jupyter-widgets/base",
          "model_name": "LayoutModel",
          "model_module_version": "1.2.0",
          "state": {
            "_model_module": "@jupyter-widgets/base",
            "_model_module_version": "1.2.0",
            "_model_name": "LayoutModel",
            "_view_count": null,
            "_view_module": "@jupyter-widgets/base",
            "_view_module_version": "1.2.0",
            "_view_name": "LayoutView",
            "align_content": null,
            "align_items": null,
            "align_self": null,
            "border": null,
            "bottom": null,
            "display": null,
            "flex": null,
            "flex_flow": null,
            "grid_area": null,
            "grid_auto_columns": null,
            "grid_auto_flow": null,
            "grid_auto_rows": null,
            "grid_column": null,
            "grid_gap": null,
            "grid_row": null,
            "grid_template_areas": null,
            "grid_template_columns": null,
            "grid_template_rows": null,
            "height": null,
            "justify_content": null,
            "justify_items": null,
            "left": null,
            "margin": null,
            "max_height": null,
            "max_width": null,
            "min_height": null,
            "min_width": null,
            "object_fit": null,
            "object_position": null,
            "order": null,
            "overflow": null,
            "overflow_x": null,
            "overflow_y": null,
            "padding": null,
            "right": null,
            "top": null,
            "visibility": null,
            "width": null
          }
        },
        "f69d20f96db24e538d08d910abb6f273": {
          "model_module": "@jupyter-widgets/controls",
          "model_name": "DescriptionStyleModel",
          "model_module_version": "1.5.0",
          "state": {
            "_model_module": "@jupyter-widgets/controls",
            "_model_module_version": "1.5.0",
            "_model_name": "DescriptionStyleModel",
            "_view_count": null,
            "_view_module": "@jupyter-widgets/base",
            "_view_module_version": "1.2.0",
            "_view_name": "StyleView",
            "description_width": ""
          }
        },
        "e424bc312a6344d8852cae334cf26321": {
          "model_module": "@jupyter-widgets/base",
          "model_name": "LayoutModel",
          "model_module_version": "1.2.0",
          "state": {
            "_model_module": "@jupyter-widgets/base",
            "_model_module_version": "1.2.0",
            "_model_name": "LayoutModel",
            "_view_count": null,
            "_view_module": "@jupyter-widgets/base",
            "_view_module_version": "1.2.0",
            "_view_name": "LayoutView",
            "align_content": null,
            "align_items": null,
            "align_self": null,
            "border": null,
            "bottom": null,
            "display": null,
            "flex": null,
            "flex_flow": null,
            "grid_area": null,
            "grid_auto_columns": null,
            "grid_auto_flow": null,
            "grid_auto_rows": null,
            "grid_column": null,
            "grid_gap": null,
            "grid_row": null,
            "grid_template_areas": null,
            "grid_template_columns": null,
            "grid_template_rows": null,
            "height": null,
            "justify_content": null,
            "justify_items": null,
            "left": null,
            "margin": null,
            "max_height": null,
            "max_width": null,
            "min_height": null,
            "min_width": null,
            "object_fit": null,
            "object_position": null,
            "order": null,
            "overflow": null,
            "overflow_x": null,
            "overflow_y": null,
            "padding": null,
            "right": null,
            "top": null,
            "visibility": null,
            "width": null
          }
        },
        "f1e324b0156e4f7eb2a145c61a9e7d0f": {
          "model_module": "@jupyter-widgets/controls",
          "model_name": "ProgressStyleModel",
          "model_module_version": "1.5.0",
          "state": {
            "_model_module": "@jupyter-widgets/controls",
            "_model_module_version": "1.5.0",
            "_model_name": "ProgressStyleModel",
            "_view_count": null,
            "_view_module": "@jupyter-widgets/base",
            "_view_module_version": "1.2.0",
            "_view_name": "StyleView",
            "bar_color": null,
            "description_width": ""
          }
        },
        "08fe7d1f7b974f8883e2fc3b9d165f86": {
          "model_module": "@jupyter-widgets/base",
          "model_name": "LayoutModel",
          "model_module_version": "1.2.0",
          "state": {
            "_model_module": "@jupyter-widgets/base",
            "_model_module_version": "1.2.0",
            "_model_name": "LayoutModel",
            "_view_count": null,
            "_view_module": "@jupyter-widgets/base",
            "_view_module_version": "1.2.0",
            "_view_name": "LayoutView",
            "align_content": null,
            "align_items": null,
            "align_self": null,
            "border": null,
            "bottom": null,
            "display": null,
            "flex": null,
            "flex_flow": null,
            "grid_area": null,
            "grid_auto_columns": null,
            "grid_auto_flow": null,
            "grid_auto_rows": null,
            "grid_column": null,
            "grid_gap": null,
            "grid_row": null,
            "grid_template_areas": null,
            "grid_template_columns": null,
            "grid_template_rows": null,
            "height": null,
            "justify_content": null,
            "justify_items": null,
            "left": null,
            "margin": null,
            "max_height": null,
            "max_width": null,
            "min_height": null,
            "min_width": null,
            "object_fit": null,
            "object_position": null,
            "order": null,
            "overflow": null,
            "overflow_x": null,
            "overflow_y": null,
            "padding": null,
            "right": null,
            "top": null,
            "visibility": null,
            "width": null
          }
        },
        "42ca7128cc774f53a17d32515425f4c1": {
          "model_module": "@jupyter-widgets/controls",
          "model_name": "DescriptionStyleModel",
          "model_module_version": "1.5.0",
          "state": {
            "_model_module": "@jupyter-widgets/controls",
            "_model_module_version": "1.5.0",
            "_model_name": "DescriptionStyleModel",
            "_view_count": null,
            "_view_module": "@jupyter-widgets/base",
            "_view_module_version": "1.2.0",
            "_view_name": "StyleView",
            "description_width": ""
          }
        },
        "59c8a1aee345437e956034cdf31f9ed3": {
          "model_module": "@jupyter-widgets/controls",
          "model_name": "HBoxModel",
          "model_module_version": "1.5.0",
          "state": {
            "_dom_classes": [],
            "_model_module": "@jupyter-widgets/controls",
            "_model_module_version": "1.5.0",
            "_model_name": "HBoxModel",
            "_view_count": null,
            "_view_module": "@jupyter-widgets/controls",
            "_view_module_version": "1.5.0",
            "_view_name": "HBoxView",
            "box_style": "",
            "children": [
              "IPY_MODEL_2d4bb0b17a234798a59ae4e8b704d2e2",
              "IPY_MODEL_49f77eb75f124428a1413b6894367580",
              "IPY_MODEL_cd194db4a99345d2b4e40aafccbc1e0f"
            ],
            "layout": "IPY_MODEL_6f6a754ce85c42ee9ccd2de408304846"
          }
        },
        "2d4bb0b17a234798a59ae4e8b704d2e2": {
          "model_module": "@jupyter-widgets/controls",
          "model_name": "HTMLModel",
          "model_module_version": "1.5.0",
          "state": {
            "_dom_classes": [],
            "_model_module": "@jupyter-widgets/controls",
            "_model_module_version": "1.5.0",
            "_model_name": "HTMLModel",
            "_view_count": null,
            "_view_module": "@jupyter-widgets/controls",
            "_view_module_version": "1.5.0",
            "_view_name": "HTMLView",
            "description": "",
            "description_tooltip": null,
            "layout": "IPY_MODEL_965481482b344ea782ba5f08a741fe60",
            "placeholder": "​",
            "style": "IPY_MODEL_ac0e217ce11f48bbb3d6f5fb8df31372",
            "value": "100%"
          }
        },
        "49f77eb75f124428a1413b6894367580": {
          "model_module": "@jupyter-widgets/controls",
          "model_name": "FloatProgressModel",
          "model_module_version": "1.5.0",
          "state": {
            "_dom_classes": [],
            "_model_module": "@jupyter-widgets/controls",
            "_model_module_version": "1.5.0",
            "_model_name": "FloatProgressModel",
            "_view_count": null,
            "_view_module": "@jupyter-widgets/controls",
            "_view_module_version": "1.5.0",
            "_view_name": "ProgressView",
            "bar_style": "success",
            "description": "",
            "description_tooltip": null,
            "layout": "IPY_MODEL_15e9c9e55d9d4afda7c18428d5bbf12c",
            "max": 29515,
            "min": 0,
            "orientation": "horizontal",
            "style": "IPY_MODEL_ebea170a1c7b4e0699b2e8d23ab6afdc",
            "value": 29515
          }
        },
        "cd194db4a99345d2b4e40aafccbc1e0f": {
          "model_module": "@jupyter-widgets/controls",
          "model_name": "HTMLModel",
          "model_module_version": "1.5.0",
          "state": {
            "_dom_classes": [],
            "_model_module": "@jupyter-widgets/controls",
            "_model_module_version": "1.5.0",
            "_model_name": "HTMLModel",
            "_view_count": null,
            "_view_module": "@jupyter-widgets/controls",
            "_view_module_version": "1.5.0",
            "_view_name": "HTMLView",
            "description": "",
            "description_tooltip": null,
            "layout": "IPY_MODEL_95315b40b7f042be932791d809fbfca1",
            "placeholder": "​",
            "style": "IPY_MODEL_4f4e111055a447af94bcc3816fcba909",
            "value": " 29515/29515 [00:00&lt;00:00, 271545.51it/s]"
          }
        },
        "6f6a754ce85c42ee9ccd2de408304846": {
          "model_module": "@jupyter-widgets/base",
          "model_name": "LayoutModel",
          "model_module_version": "1.2.0",
          "state": {
            "_model_module": "@jupyter-widgets/base",
            "_model_module_version": "1.2.0",
            "_model_name": "LayoutModel",
            "_view_count": null,
            "_view_module": "@jupyter-widgets/base",
            "_view_module_version": "1.2.0",
            "_view_name": "LayoutView",
            "align_content": null,
            "align_items": null,
            "align_self": null,
            "border": null,
            "bottom": null,
            "display": null,
            "flex": null,
            "flex_flow": null,
            "grid_area": null,
            "grid_auto_columns": null,
            "grid_auto_flow": null,
            "grid_auto_rows": null,
            "grid_column": null,
            "grid_gap": null,
            "grid_row": null,
            "grid_template_areas": null,
            "grid_template_columns": null,
            "grid_template_rows": null,
            "height": null,
            "justify_content": null,
            "justify_items": null,
            "left": null,
            "margin": null,
            "max_height": null,
            "max_width": null,
            "min_height": null,
            "min_width": null,
            "object_fit": null,
            "object_position": null,
            "order": null,
            "overflow": null,
            "overflow_x": null,
            "overflow_y": null,
            "padding": null,
            "right": null,
            "top": null,
            "visibility": null,
            "width": null
          }
        },
        "965481482b344ea782ba5f08a741fe60": {
          "model_module": "@jupyter-widgets/base",
          "model_name": "LayoutModel",
          "model_module_version": "1.2.0",
          "state": {
            "_model_module": "@jupyter-widgets/base",
            "_model_module_version": "1.2.0",
            "_model_name": "LayoutModel",
            "_view_count": null,
            "_view_module": "@jupyter-widgets/base",
            "_view_module_version": "1.2.0",
            "_view_name": "LayoutView",
            "align_content": null,
            "align_items": null,
            "align_self": null,
            "border": null,
            "bottom": null,
            "display": null,
            "flex": null,
            "flex_flow": null,
            "grid_area": null,
            "grid_auto_columns": null,
            "grid_auto_flow": null,
            "grid_auto_rows": null,
            "grid_column": null,
            "grid_gap": null,
            "grid_row": null,
            "grid_template_areas": null,
            "grid_template_columns": null,
            "grid_template_rows": null,
            "height": null,
            "justify_content": null,
            "justify_items": null,
            "left": null,
            "margin": null,
            "max_height": null,
            "max_width": null,
            "min_height": null,
            "min_width": null,
            "object_fit": null,
            "object_position": null,
            "order": null,
            "overflow": null,
            "overflow_x": null,
            "overflow_y": null,
            "padding": null,
            "right": null,
            "top": null,
            "visibility": null,
            "width": null
          }
        },
        "ac0e217ce11f48bbb3d6f5fb8df31372": {
          "model_module": "@jupyter-widgets/controls",
          "model_name": "DescriptionStyleModel",
          "model_module_version": "1.5.0",
          "state": {
            "_model_module": "@jupyter-widgets/controls",
            "_model_module_version": "1.5.0",
            "_model_name": "DescriptionStyleModel",
            "_view_count": null,
            "_view_module": "@jupyter-widgets/base",
            "_view_module_version": "1.2.0",
            "_view_name": "StyleView",
            "description_width": ""
          }
        },
        "15e9c9e55d9d4afda7c18428d5bbf12c": {
          "model_module": "@jupyter-widgets/base",
          "model_name": "LayoutModel",
          "model_module_version": "1.2.0",
          "state": {
            "_model_module": "@jupyter-widgets/base",
            "_model_module_version": "1.2.0",
            "_model_name": "LayoutModel",
            "_view_count": null,
            "_view_module": "@jupyter-widgets/base",
            "_view_module_version": "1.2.0",
            "_view_name": "LayoutView",
            "align_content": null,
            "align_items": null,
            "align_self": null,
            "border": null,
            "bottom": null,
            "display": null,
            "flex": null,
            "flex_flow": null,
            "grid_area": null,
            "grid_auto_columns": null,
            "grid_auto_flow": null,
            "grid_auto_rows": null,
            "grid_column": null,
            "grid_gap": null,
            "grid_row": null,
            "grid_template_areas": null,
            "grid_template_columns": null,
            "grid_template_rows": null,
            "height": null,
            "justify_content": null,
            "justify_items": null,
            "left": null,
            "margin": null,
            "max_height": null,
            "max_width": null,
            "min_height": null,
            "min_width": null,
            "object_fit": null,
            "object_position": null,
            "order": null,
            "overflow": null,
            "overflow_x": null,
            "overflow_y": null,
            "padding": null,
            "right": null,
            "top": null,
            "visibility": null,
            "width": null
          }
        },
        "ebea170a1c7b4e0699b2e8d23ab6afdc": {
          "model_module": "@jupyter-widgets/controls",
          "model_name": "ProgressStyleModel",
          "model_module_version": "1.5.0",
          "state": {
            "_model_module": "@jupyter-widgets/controls",
            "_model_module_version": "1.5.0",
            "_model_name": "ProgressStyleModel",
            "_view_count": null,
            "_view_module": "@jupyter-widgets/base",
            "_view_module_version": "1.2.0",
            "_view_name": "StyleView",
            "bar_color": null,
            "description_width": ""
          }
        },
        "95315b40b7f042be932791d809fbfca1": {
          "model_module": "@jupyter-widgets/base",
          "model_name": "LayoutModel",
          "model_module_version": "1.2.0",
          "state": {
            "_model_module": "@jupyter-widgets/base",
            "_model_module_version": "1.2.0",
            "_model_name": "LayoutModel",
            "_view_count": null,
            "_view_module": "@jupyter-widgets/base",
            "_view_module_version": "1.2.0",
            "_view_name": "LayoutView",
            "align_content": null,
            "align_items": null,
            "align_self": null,
            "border": null,
            "bottom": null,
            "display": null,
            "flex": null,
            "flex_flow": null,
            "grid_area": null,
            "grid_auto_columns": null,
            "grid_auto_flow": null,
            "grid_auto_rows": null,
            "grid_column": null,
            "grid_gap": null,
            "grid_row": null,
            "grid_template_areas": null,
            "grid_template_columns": null,
            "grid_template_rows": null,
            "height": null,
            "justify_content": null,
            "justify_items": null,
            "left": null,
            "margin": null,
            "max_height": null,
            "max_width": null,
            "min_height": null,
            "min_width": null,
            "object_fit": null,
            "object_position": null,
            "order": null,
            "overflow": null,
            "overflow_x": null,
            "overflow_y": null,
            "padding": null,
            "right": null,
            "top": null,
            "visibility": null,
            "width": null
          }
        },
        "4f4e111055a447af94bcc3816fcba909": {
          "model_module": "@jupyter-widgets/controls",
          "model_name": "DescriptionStyleModel",
          "model_module_version": "1.5.0",
          "state": {
            "_model_module": "@jupyter-widgets/controls",
            "_model_module_version": "1.5.0",
            "_model_name": "DescriptionStyleModel",
            "_view_count": null,
            "_view_module": "@jupyter-widgets/base",
            "_view_module_version": "1.2.0",
            "_view_name": "StyleView",
            "description_width": ""
          }
        },
        "eddc4ad7df4e48a3b41981ef3fa9e708": {
          "model_module": "@jupyter-widgets/controls",
          "model_name": "HBoxModel",
          "model_module_version": "1.5.0",
          "state": {
            "_dom_classes": [],
            "_model_module": "@jupyter-widgets/controls",
            "_model_module_version": "1.5.0",
            "_model_name": "HBoxModel",
            "_view_count": null,
            "_view_module": "@jupyter-widgets/controls",
            "_view_module_version": "1.5.0",
            "_view_name": "HBoxView",
            "box_style": "",
            "children": [
              "IPY_MODEL_7036ff5cff8f4cc2860ec97ad6ac8b4c",
              "IPY_MODEL_b8bf48542d9b4770b503b7b7b53cc977",
              "IPY_MODEL_cf8ef00dd70d4b2d871128cfbe24ce7f"
            ],
            "layout": "IPY_MODEL_5e5c3a6ba2f943d984dc24943c36618d"
          }
        },
        "7036ff5cff8f4cc2860ec97ad6ac8b4c": {
          "model_module": "@jupyter-widgets/controls",
          "model_name": "HTMLModel",
          "model_module_version": "1.5.0",
          "state": {
            "_dom_classes": [],
            "_model_module": "@jupyter-widgets/controls",
            "_model_module_version": "1.5.0",
            "_model_name": "HTMLModel",
            "_view_count": null,
            "_view_module": "@jupyter-widgets/controls",
            "_view_module_version": "1.5.0",
            "_view_name": "HTMLView",
            "description": "",
            "description_tooltip": null,
            "layout": "IPY_MODEL_02f6a3e0ccae487581685ee86feb637d",
            "placeholder": "​",
            "style": "IPY_MODEL_6d7b1f8ce3fa4ab0a97c05a63b039f2b",
            "value": "100%"
          }
        },
        "b8bf48542d9b4770b503b7b7b53cc977": {
          "model_module": "@jupyter-widgets/controls",
          "model_name": "FloatProgressModel",
          "model_module_version": "1.5.0",
          "state": {
            "_dom_classes": [],
            "_model_module": "@jupyter-widgets/controls",
            "_model_module_version": "1.5.0",
            "_model_name": "FloatProgressModel",
            "_view_count": null,
            "_view_module": "@jupyter-widgets/controls",
            "_view_module_version": "1.5.0",
            "_view_name": "ProgressView",
            "bar_style": "success",
            "description": "",
            "description_tooltip": null,
            "layout": "IPY_MODEL_8720906a7e20422dbab7c6389dc1d646",
            "max": 4422102,
            "min": 0,
            "orientation": "horizontal",
            "style": "IPY_MODEL_3caad396774d41489c9d1b1b05869515",
            "value": 4422102
          }
        },
        "cf8ef00dd70d4b2d871128cfbe24ce7f": {
          "model_module": "@jupyter-widgets/controls",
          "model_name": "HTMLModel",
          "model_module_version": "1.5.0",
          "state": {
            "_dom_classes": [],
            "_model_module": "@jupyter-widgets/controls",
            "_model_module_version": "1.5.0",
            "_model_name": "HTMLModel",
            "_view_count": null,
            "_view_module": "@jupyter-widgets/controls",
            "_view_module_version": "1.5.0",
            "_view_name": "HTMLView",
            "description": "",
            "description_tooltip": null,
            "layout": "IPY_MODEL_19433d80a1b9451c8a7fa0f5582b4f2f",
            "placeholder": "​",
            "style": "IPY_MODEL_65130097e6984e9a8b9fabc06bf53f7a",
            "value": " 4422102/4422102 [00:00&lt;00:00, 7640036.42it/s]"
          }
        },
        "5e5c3a6ba2f943d984dc24943c36618d": {
          "model_module": "@jupyter-widgets/base",
          "model_name": "LayoutModel",
          "model_module_version": "1.2.0",
          "state": {
            "_model_module": "@jupyter-widgets/base",
            "_model_module_version": "1.2.0",
            "_model_name": "LayoutModel",
            "_view_count": null,
            "_view_module": "@jupyter-widgets/base",
            "_view_module_version": "1.2.0",
            "_view_name": "LayoutView",
            "align_content": null,
            "align_items": null,
            "align_self": null,
            "border": null,
            "bottom": null,
            "display": null,
            "flex": null,
            "flex_flow": null,
            "grid_area": null,
            "grid_auto_columns": null,
            "grid_auto_flow": null,
            "grid_auto_rows": null,
            "grid_column": null,
            "grid_gap": null,
            "grid_row": null,
            "grid_template_areas": null,
            "grid_template_columns": null,
            "grid_template_rows": null,
            "height": null,
            "justify_content": null,
            "justify_items": null,
            "left": null,
            "margin": null,
            "max_height": null,
            "max_width": null,
            "min_height": null,
            "min_width": null,
            "object_fit": null,
            "object_position": null,
            "order": null,
            "overflow": null,
            "overflow_x": null,
            "overflow_y": null,
            "padding": null,
            "right": null,
            "top": null,
            "visibility": null,
            "width": null
          }
        },
        "02f6a3e0ccae487581685ee86feb637d": {
          "model_module": "@jupyter-widgets/base",
          "model_name": "LayoutModel",
          "model_module_version": "1.2.0",
          "state": {
            "_model_module": "@jupyter-widgets/base",
            "_model_module_version": "1.2.0",
            "_model_name": "LayoutModel",
            "_view_count": null,
            "_view_module": "@jupyter-widgets/base",
            "_view_module_version": "1.2.0",
            "_view_name": "LayoutView",
            "align_content": null,
            "align_items": null,
            "align_self": null,
            "border": null,
            "bottom": null,
            "display": null,
            "flex": null,
            "flex_flow": null,
            "grid_area": null,
            "grid_auto_columns": null,
            "grid_auto_flow": null,
            "grid_auto_rows": null,
            "grid_column": null,
            "grid_gap": null,
            "grid_row": null,
            "grid_template_areas": null,
            "grid_template_columns": null,
            "grid_template_rows": null,
            "height": null,
            "justify_content": null,
            "justify_items": null,
            "left": null,
            "margin": null,
            "max_height": null,
            "max_width": null,
            "min_height": null,
            "min_width": null,
            "object_fit": null,
            "object_position": null,
            "order": null,
            "overflow": null,
            "overflow_x": null,
            "overflow_y": null,
            "padding": null,
            "right": null,
            "top": null,
            "visibility": null,
            "width": null
          }
        },
        "6d7b1f8ce3fa4ab0a97c05a63b039f2b": {
          "model_module": "@jupyter-widgets/controls",
          "model_name": "DescriptionStyleModel",
          "model_module_version": "1.5.0",
          "state": {
            "_model_module": "@jupyter-widgets/controls",
            "_model_module_version": "1.5.0",
            "_model_name": "DescriptionStyleModel",
            "_view_count": null,
            "_view_module": "@jupyter-widgets/base",
            "_view_module_version": "1.2.0",
            "_view_name": "StyleView",
            "description_width": ""
          }
        },
        "8720906a7e20422dbab7c6389dc1d646": {
          "model_module": "@jupyter-widgets/base",
          "model_name": "LayoutModel",
          "model_module_version": "1.2.0",
          "state": {
            "_model_module": "@jupyter-widgets/base",
            "_model_module_version": "1.2.0",
            "_model_name": "LayoutModel",
            "_view_count": null,
            "_view_module": "@jupyter-widgets/base",
            "_view_module_version": "1.2.0",
            "_view_name": "LayoutView",
            "align_content": null,
            "align_items": null,
            "align_self": null,
            "border": null,
            "bottom": null,
            "display": null,
            "flex": null,
            "flex_flow": null,
            "grid_area": null,
            "grid_auto_columns": null,
            "grid_auto_flow": null,
            "grid_auto_rows": null,
            "grid_column": null,
            "grid_gap": null,
            "grid_row": null,
            "grid_template_areas": null,
            "grid_template_columns": null,
            "grid_template_rows": null,
            "height": null,
            "justify_content": null,
            "justify_items": null,
            "left": null,
            "margin": null,
            "max_height": null,
            "max_width": null,
            "min_height": null,
            "min_width": null,
            "object_fit": null,
            "object_position": null,
            "order": null,
            "overflow": null,
            "overflow_x": null,
            "overflow_y": null,
            "padding": null,
            "right": null,
            "top": null,
            "visibility": null,
            "width": null
          }
        },
        "3caad396774d41489c9d1b1b05869515": {
          "model_module": "@jupyter-widgets/controls",
          "model_name": "ProgressStyleModel",
          "model_module_version": "1.5.0",
          "state": {
            "_model_module": "@jupyter-widgets/controls",
            "_model_module_version": "1.5.0",
            "_model_name": "ProgressStyleModel",
            "_view_count": null,
            "_view_module": "@jupyter-widgets/base",
            "_view_module_version": "1.2.0",
            "_view_name": "StyleView",
            "bar_color": null,
            "description_width": ""
          }
        },
        "19433d80a1b9451c8a7fa0f5582b4f2f": {
          "model_module": "@jupyter-widgets/base",
          "model_name": "LayoutModel",
          "model_module_version": "1.2.0",
          "state": {
            "_model_module": "@jupyter-widgets/base",
            "_model_module_version": "1.2.0",
            "_model_name": "LayoutModel",
            "_view_count": null,
            "_view_module": "@jupyter-widgets/base",
            "_view_module_version": "1.2.0",
            "_view_name": "LayoutView",
            "align_content": null,
            "align_items": null,
            "align_self": null,
            "border": null,
            "bottom": null,
            "display": null,
            "flex": null,
            "flex_flow": null,
            "grid_area": null,
            "grid_auto_columns": null,
            "grid_auto_flow": null,
            "grid_auto_rows": null,
            "grid_column": null,
            "grid_gap": null,
            "grid_row": null,
            "grid_template_areas": null,
            "grid_template_columns": null,
            "grid_template_rows": null,
            "height": null,
            "justify_content": null,
            "justify_items": null,
            "left": null,
            "margin": null,
            "max_height": null,
            "max_width": null,
            "min_height": null,
            "min_width": null,
            "object_fit": null,
            "object_position": null,
            "order": null,
            "overflow": null,
            "overflow_x": null,
            "overflow_y": null,
            "padding": null,
            "right": null,
            "top": null,
            "visibility": null,
            "width": null
          }
        },
        "65130097e6984e9a8b9fabc06bf53f7a": {
          "model_module": "@jupyter-widgets/controls",
          "model_name": "DescriptionStyleModel",
          "model_module_version": "1.5.0",
          "state": {
            "_model_module": "@jupyter-widgets/controls",
            "_model_module_version": "1.5.0",
            "_model_name": "DescriptionStyleModel",
            "_view_count": null,
            "_view_module": "@jupyter-widgets/base",
            "_view_module_version": "1.2.0",
            "_view_name": "StyleView",
            "description_width": ""
          }
        },
        "30f10d7d99f04097b3b8fd440991dc1f": {
          "model_module": "@jupyter-widgets/controls",
          "model_name": "HBoxModel",
          "model_module_version": "1.5.0",
          "state": {
            "_dom_classes": [],
            "_model_module": "@jupyter-widgets/controls",
            "_model_module_version": "1.5.0",
            "_model_name": "HBoxModel",
            "_view_count": null,
            "_view_module": "@jupyter-widgets/controls",
            "_view_module_version": "1.5.0",
            "_view_name": "HBoxView",
            "box_style": "",
            "children": [
              "IPY_MODEL_4ab336175ac5424cbf1c5cdad6d8495f",
              "IPY_MODEL_8282abcf7d4c444faaef1bae45a95ace",
              "IPY_MODEL_872a9f3cdd3146b7a2d22e58d45ccc4d"
            ],
            "layout": "IPY_MODEL_c0c94b9dd2414e3ca20f8346ad45c336"
          }
        },
        "4ab336175ac5424cbf1c5cdad6d8495f": {
          "model_module": "@jupyter-widgets/controls",
          "model_name": "HTMLModel",
          "model_module_version": "1.5.0",
          "state": {
            "_dom_classes": [],
            "_model_module": "@jupyter-widgets/controls",
            "_model_module_version": "1.5.0",
            "_model_name": "HTMLModel",
            "_view_count": null,
            "_view_module": "@jupyter-widgets/controls",
            "_view_module_version": "1.5.0",
            "_view_name": "HTMLView",
            "description": "",
            "description_tooltip": null,
            "layout": "IPY_MODEL_690e2ca4ca214eb1abfb95857f1254dd",
            "placeholder": "​",
            "style": "IPY_MODEL_720cca5267bf4396ac7b29eecfcd2576",
            "value": "100%"
          }
        },
        "8282abcf7d4c444faaef1bae45a95ace": {
          "model_module": "@jupyter-widgets/controls",
          "model_name": "FloatProgressModel",
          "model_module_version": "1.5.0",
          "state": {
            "_dom_classes": [],
            "_model_module": "@jupyter-widgets/controls",
            "_model_module_version": "1.5.0",
            "_model_name": "FloatProgressModel",
            "_view_count": null,
            "_view_module": "@jupyter-widgets/controls",
            "_view_module_version": "1.5.0",
            "_view_name": "ProgressView",
            "bar_style": "success",
            "description": "",
            "description_tooltip": null,
            "layout": "IPY_MODEL_b80d0ebdc8a04b0bae9ea4e63d9353a4",
            "max": 5148,
            "min": 0,
            "orientation": "horizontal",
            "style": "IPY_MODEL_747af5300fbb441e89aafcbe4ed66f17",
            "value": 5148
          }
        },
        "872a9f3cdd3146b7a2d22e58d45ccc4d": {
          "model_module": "@jupyter-widgets/controls",
          "model_name": "HTMLModel",
          "model_module_version": "1.5.0",
          "state": {
            "_dom_classes": [],
            "_model_module": "@jupyter-widgets/controls",
            "_model_module_version": "1.5.0",
            "_model_name": "HTMLModel",
            "_view_count": null,
            "_view_module": "@jupyter-widgets/controls",
            "_view_module_version": "1.5.0",
            "_view_name": "HTMLView",
            "description": "",
            "description_tooltip": null,
            "layout": "IPY_MODEL_0e2dee9a47e0448c848f092a0513e2b1",
            "placeholder": "​",
            "style": "IPY_MODEL_e8a3d599816a4b65bd6fe22eba794e4c",
            "value": " 5148/5148 [00:00&lt;00:00, 150507.64it/s]"
          }
        },
        "c0c94b9dd2414e3ca20f8346ad45c336": {
          "model_module": "@jupyter-widgets/base",
          "model_name": "LayoutModel",
          "model_module_version": "1.2.0",
          "state": {
            "_model_module": "@jupyter-widgets/base",
            "_model_module_version": "1.2.0",
            "_model_name": "LayoutModel",
            "_view_count": null,
            "_view_module": "@jupyter-widgets/base",
            "_view_module_version": "1.2.0",
            "_view_name": "LayoutView",
            "align_content": null,
            "align_items": null,
            "align_self": null,
            "border": null,
            "bottom": null,
            "display": null,
            "flex": null,
            "flex_flow": null,
            "grid_area": null,
            "grid_auto_columns": null,
            "grid_auto_flow": null,
            "grid_auto_rows": null,
            "grid_column": null,
            "grid_gap": null,
            "grid_row": null,
            "grid_template_areas": null,
            "grid_template_columns": null,
            "grid_template_rows": null,
            "height": null,
            "justify_content": null,
            "justify_items": null,
            "left": null,
            "margin": null,
            "max_height": null,
            "max_width": null,
            "min_height": null,
            "min_width": null,
            "object_fit": null,
            "object_position": null,
            "order": null,
            "overflow": null,
            "overflow_x": null,
            "overflow_y": null,
            "padding": null,
            "right": null,
            "top": null,
            "visibility": null,
            "width": null
          }
        },
        "690e2ca4ca214eb1abfb95857f1254dd": {
          "model_module": "@jupyter-widgets/base",
          "model_name": "LayoutModel",
          "model_module_version": "1.2.0",
          "state": {
            "_model_module": "@jupyter-widgets/base",
            "_model_module_version": "1.2.0",
            "_model_name": "LayoutModel",
            "_view_count": null,
            "_view_module": "@jupyter-widgets/base",
            "_view_module_version": "1.2.0",
            "_view_name": "LayoutView",
            "align_content": null,
            "align_items": null,
            "align_self": null,
            "border": null,
            "bottom": null,
            "display": null,
            "flex": null,
            "flex_flow": null,
            "grid_area": null,
            "grid_auto_columns": null,
            "grid_auto_flow": null,
            "grid_auto_rows": null,
            "grid_column": null,
            "grid_gap": null,
            "grid_row": null,
            "grid_template_areas": null,
            "grid_template_columns": null,
            "grid_template_rows": null,
            "height": null,
            "justify_content": null,
            "justify_items": null,
            "left": null,
            "margin": null,
            "max_height": null,
            "max_width": null,
            "min_height": null,
            "min_width": null,
            "object_fit": null,
            "object_position": null,
            "order": null,
            "overflow": null,
            "overflow_x": null,
            "overflow_y": null,
            "padding": null,
            "right": null,
            "top": null,
            "visibility": null,
            "width": null
          }
        },
        "720cca5267bf4396ac7b29eecfcd2576": {
          "model_module": "@jupyter-widgets/controls",
          "model_name": "DescriptionStyleModel",
          "model_module_version": "1.5.0",
          "state": {
            "_model_module": "@jupyter-widgets/controls",
            "_model_module_version": "1.5.0",
            "_model_name": "DescriptionStyleModel",
            "_view_count": null,
            "_view_module": "@jupyter-widgets/base",
            "_view_module_version": "1.2.0",
            "_view_name": "StyleView",
            "description_width": ""
          }
        },
        "b80d0ebdc8a04b0bae9ea4e63d9353a4": {
          "model_module": "@jupyter-widgets/base",
          "model_name": "LayoutModel",
          "model_module_version": "1.2.0",
          "state": {
            "_model_module": "@jupyter-widgets/base",
            "_model_module_version": "1.2.0",
            "_model_name": "LayoutModel",
            "_view_count": null,
            "_view_module": "@jupyter-widgets/base",
            "_view_module_version": "1.2.0",
            "_view_name": "LayoutView",
            "align_content": null,
            "align_items": null,
            "align_self": null,
            "border": null,
            "bottom": null,
            "display": null,
            "flex": null,
            "flex_flow": null,
            "grid_area": null,
            "grid_auto_columns": null,
            "grid_auto_flow": null,
            "grid_auto_rows": null,
            "grid_column": null,
            "grid_gap": null,
            "grid_row": null,
            "grid_template_areas": null,
            "grid_template_columns": null,
            "grid_template_rows": null,
            "height": null,
            "justify_content": null,
            "justify_items": null,
            "left": null,
            "margin": null,
            "max_height": null,
            "max_width": null,
            "min_height": null,
            "min_width": null,
            "object_fit": null,
            "object_position": null,
            "order": null,
            "overflow": null,
            "overflow_x": null,
            "overflow_y": null,
            "padding": null,
            "right": null,
            "top": null,
            "visibility": null,
            "width": null
          }
        },
        "747af5300fbb441e89aafcbe4ed66f17": {
          "model_module": "@jupyter-widgets/controls",
          "model_name": "ProgressStyleModel",
          "model_module_version": "1.5.0",
          "state": {
            "_model_module": "@jupyter-widgets/controls",
            "_model_module_version": "1.5.0",
            "_model_name": "ProgressStyleModel",
            "_view_count": null,
            "_view_module": "@jupyter-widgets/base",
            "_view_module_version": "1.2.0",
            "_view_name": "StyleView",
            "bar_color": null,
            "description_width": ""
          }
        },
        "0e2dee9a47e0448c848f092a0513e2b1": {
          "model_module": "@jupyter-widgets/base",
          "model_name": "LayoutModel",
          "model_module_version": "1.2.0",
          "state": {
            "_model_module": "@jupyter-widgets/base",
            "_model_module_version": "1.2.0",
            "_model_name": "LayoutModel",
            "_view_count": null,
            "_view_module": "@jupyter-widgets/base",
            "_view_module_version": "1.2.0",
            "_view_name": "LayoutView",
            "align_content": null,
            "align_items": null,
            "align_self": null,
            "border": null,
            "bottom": null,
            "display": null,
            "flex": null,
            "flex_flow": null,
            "grid_area": null,
            "grid_auto_columns": null,
            "grid_auto_flow": null,
            "grid_auto_rows": null,
            "grid_column": null,
            "grid_gap": null,
            "grid_row": null,
            "grid_template_areas": null,
            "grid_template_columns": null,
            "grid_template_rows": null,
            "height": null,
            "justify_content": null,
            "justify_items": null,
            "left": null,
            "margin": null,
            "max_height": null,
            "max_width": null,
            "min_height": null,
            "min_width": null,
            "object_fit": null,
            "object_position": null,
            "order": null,
            "overflow": null,
            "overflow_x": null,
            "overflow_y": null,
            "padding": null,
            "right": null,
            "top": null,
            "visibility": null,
            "width": null
          }
        },
        "e8a3d599816a4b65bd6fe22eba794e4c": {
          "model_module": "@jupyter-widgets/controls",
          "model_name": "DescriptionStyleModel",
          "model_module_version": "1.5.0",
          "state": {
            "_model_module": "@jupyter-widgets/controls",
            "_model_module_version": "1.5.0",
            "_model_name": "DescriptionStyleModel",
            "_view_count": null,
            "_view_module": "@jupyter-widgets/base",
            "_view_module_version": "1.2.0",
            "_view_name": "StyleView",
            "description_width": ""
          }
        },
        "7bf42efc24f948cd9dd6ac386f3102df": {
          "model_module": "@jupyter-widgets/controls",
          "model_name": "HBoxModel",
          "model_module_version": "1.5.0",
          "state": {
            "_dom_classes": [],
            "_model_module": "@jupyter-widgets/controls",
            "_model_module_version": "1.5.0",
            "_model_name": "HBoxModel",
            "_view_count": null,
            "_view_module": "@jupyter-widgets/controls",
            "_view_module_version": "1.5.0",
            "_view_name": "HBoxView",
            "box_style": "",
            "children": [
              "IPY_MODEL_f2ffe6d56ed3434f972d7b86dc727872",
              "IPY_MODEL_85c974741c0d49508b6c1c357305a401",
              "IPY_MODEL_bceeea692b4744d0a6582e1021980dbb"
            ],
            "layout": "IPY_MODEL_f9da811d3562481f90da7b56dfd57d02"
          }
        },
        "f2ffe6d56ed3434f972d7b86dc727872": {
          "model_module": "@jupyter-widgets/controls",
          "model_name": "HTMLModel",
          "model_module_version": "1.5.0",
          "state": {
            "_dom_classes": [],
            "_model_module": "@jupyter-widgets/controls",
            "_model_module_version": "1.5.0",
            "_model_name": "HTMLModel",
            "_view_count": null,
            "_view_module": "@jupyter-widgets/controls",
            "_view_module_version": "1.5.0",
            "_view_name": "HTMLView",
            "description": "",
            "description_tooltip": null,
            "layout": "IPY_MODEL_64a010dc2d7344cfa817a690461de50b",
            "placeholder": "​",
            "style": "IPY_MODEL_1d62f012d6014b9e9a3242ac4354f0a8",
            "value": "100%"
          }
        },
        "85c974741c0d49508b6c1c357305a401": {
          "model_module": "@jupyter-widgets/controls",
          "model_name": "FloatProgressModel",
          "model_module_version": "1.5.0",
          "state": {
            "_dom_classes": [],
            "_model_module": "@jupyter-widgets/controls",
            "_model_module_version": "1.5.0",
            "_model_name": "FloatProgressModel",
            "_view_count": null,
            "_view_module": "@jupyter-widgets/controls",
            "_view_module_version": "1.5.0",
            "_view_name": "ProgressView",
            "bar_style": "success",
            "description": "",
            "description_tooltip": null,
            "layout": "IPY_MODEL_a7073e9d18904507ae8ef691caf0c9b7",
            "max": 20,
            "min": 0,
            "orientation": "horizontal",
            "style": "IPY_MODEL_0a3c29c52f7b430c8b73dfadc71e0f94",
            "value": 20
          }
        },
        "bceeea692b4744d0a6582e1021980dbb": {
          "model_module": "@jupyter-widgets/controls",
          "model_name": "HTMLModel",
          "model_module_version": "1.5.0",
          "state": {
            "_dom_classes": [],
            "_model_module": "@jupyter-widgets/controls",
            "_model_module_version": "1.5.0",
            "_model_name": "HTMLModel",
            "_view_count": null,
            "_view_module": "@jupyter-widgets/controls",
            "_view_module_version": "1.5.0",
            "_view_name": "HTMLView",
            "description": "",
            "description_tooltip": null,
            "layout": "IPY_MODEL_844aa59b42e24b36b34268c5853448a0",
            "placeholder": "​",
            "style": "IPY_MODEL_25da8442fecd499295db8d870dc804ad",
            "value": " 20/20 [06:04&lt;00:00, 18.10s/it]"
          }
        },
        "f9da811d3562481f90da7b56dfd57d02": {
          "model_module": "@jupyter-widgets/base",
          "model_name": "LayoutModel",
          "model_module_version": "1.2.0",
          "state": {
            "_model_module": "@jupyter-widgets/base",
            "_model_module_version": "1.2.0",
            "_model_name": "LayoutModel",
            "_view_count": null,
            "_view_module": "@jupyter-widgets/base",
            "_view_module_version": "1.2.0",
            "_view_name": "LayoutView",
            "align_content": null,
            "align_items": null,
            "align_self": null,
            "border": null,
            "bottom": null,
            "display": null,
            "flex": null,
            "flex_flow": null,
            "grid_area": null,
            "grid_auto_columns": null,
            "grid_auto_flow": null,
            "grid_auto_rows": null,
            "grid_column": null,
            "grid_gap": null,
            "grid_row": null,
            "grid_template_areas": null,
            "grid_template_columns": null,
            "grid_template_rows": null,
            "height": null,
            "justify_content": null,
            "justify_items": null,
            "left": null,
            "margin": null,
            "max_height": null,
            "max_width": null,
            "min_height": null,
            "min_width": null,
            "object_fit": null,
            "object_position": null,
            "order": null,
            "overflow": null,
            "overflow_x": null,
            "overflow_y": null,
            "padding": null,
            "right": null,
            "top": null,
            "visibility": null,
            "width": null
          }
        },
        "64a010dc2d7344cfa817a690461de50b": {
          "model_module": "@jupyter-widgets/base",
          "model_name": "LayoutModel",
          "model_module_version": "1.2.0",
          "state": {
            "_model_module": "@jupyter-widgets/base",
            "_model_module_version": "1.2.0",
            "_model_name": "LayoutModel",
            "_view_count": null,
            "_view_module": "@jupyter-widgets/base",
            "_view_module_version": "1.2.0",
            "_view_name": "LayoutView",
            "align_content": null,
            "align_items": null,
            "align_self": null,
            "border": null,
            "bottom": null,
            "display": null,
            "flex": null,
            "flex_flow": null,
            "grid_area": null,
            "grid_auto_columns": null,
            "grid_auto_flow": null,
            "grid_auto_rows": null,
            "grid_column": null,
            "grid_gap": null,
            "grid_row": null,
            "grid_template_areas": null,
            "grid_template_columns": null,
            "grid_template_rows": null,
            "height": null,
            "justify_content": null,
            "justify_items": null,
            "left": null,
            "margin": null,
            "max_height": null,
            "max_width": null,
            "min_height": null,
            "min_width": null,
            "object_fit": null,
            "object_position": null,
            "order": null,
            "overflow": null,
            "overflow_x": null,
            "overflow_y": null,
            "padding": null,
            "right": null,
            "top": null,
            "visibility": null,
            "width": null
          }
        },
        "1d62f012d6014b9e9a3242ac4354f0a8": {
          "model_module": "@jupyter-widgets/controls",
          "model_name": "DescriptionStyleModel",
          "model_module_version": "1.5.0",
          "state": {
            "_model_module": "@jupyter-widgets/controls",
            "_model_module_version": "1.5.0",
            "_model_name": "DescriptionStyleModel",
            "_view_count": null,
            "_view_module": "@jupyter-widgets/base",
            "_view_module_version": "1.2.0",
            "_view_name": "StyleView",
            "description_width": ""
          }
        },
        "a7073e9d18904507ae8ef691caf0c9b7": {
          "model_module": "@jupyter-widgets/base",
          "model_name": "LayoutModel",
          "model_module_version": "1.2.0",
          "state": {
            "_model_module": "@jupyter-widgets/base",
            "_model_module_version": "1.2.0",
            "_model_name": "LayoutModel",
            "_view_count": null,
            "_view_module": "@jupyter-widgets/base",
            "_view_module_version": "1.2.0",
            "_view_name": "LayoutView",
            "align_content": null,
            "align_items": null,
            "align_self": null,
            "border": null,
            "bottom": null,
            "display": null,
            "flex": null,
            "flex_flow": null,
            "grid_area": null,
            "grid_auto_columns": null,
            "grid_auto_flow": null,
            "grid_auto_rows": null,
            "grid_column": null,
            "grid_gap": null,
            "grid_row": null,
            "grid_template_areas": null,
            "grid_template_columns": null,
            "grid_template_rows": null,
            "height": null,
            "justify_content": null,
            "justify_items": null,
            "left": null,
            "margin": null,
            "max_height": null,
            "max_width": null,
            "min_height": null,
            "min_width": null,
            "object_fit": null,
            "object_position": null,
            "order": null,
            "overflow": null,
            "overflow_x": null,
            "overflow_y": null,
            "padding": null,
            "right": null,
            "top": null,
            "visibility": null,
            "width": null
          }
        },
        "0a3c29c52f7b430c8b73dfadc71e0f94": {
          "model_module": "@jupyter-widgets/controls",
          "model_name": "ProgressStyleModel",
          "model_module_version": "1.5.0",
          "state": {
            "_model_module": "@jupyter-widgets/controls",
            "_model_module_version": "1.5.0",
            "_model_name": "ProgressStyleModel",
            "_view_count": null,
            "_view_module": "@jupyter-widgets/base",
            "_view_module_version": "1.2.0",
            "_view_name": "StyleView",
            "bar_color": null,
            "description_width": ""
          }
        },
        "844aa59b42e24b36b34268c5853448a0": {
          "model_module": "@jupyter-widgets/base",
          "model_name": "LayoutModel",
          "model_module_version": "1.2.0",
          "state": {
            "_model_module": "@jupyter-widgets/base",
            "_model_module_version": "1.2.0",
            "_model_name": "LayoutModel",
            "_view_count": null,
            "_view_module": "@jupyter-widgets/base",
            "_view_module_version": "1.2.0",
            "_view_name": "LayoutView",
            "align_content": null,
            "align_items": null,
            "align_self": null,
            "border": null,
            "bottom": null,
            "display": null,
            "flex": null,
            "flex_flow": null,
            "grid_area": null,
            "grid_auto_columns": null,
            "grid_auto_flow": null,
            "grid_auto_rows": null,
            "grid_column": null,
            "grid_gap": null,
            "grid_row": null,
            "grid_template_areas": null,
            "grid_template_columns": null,
            "grid_template_rows": null,
            "height": null,
            "justify_content": null,
            "justify_items": null,
            "left": null,
            "margin": null,
            "max_height": null,
            "max_width": null,
            "min_height": null,
            "min_width": null,
            "object_fit": null,
            "object_position": null,
            "order": null,
            "overflow": null,
            "overflow_x": null,
            "overflow_y": null,
            "padding": null,
            "right": null,
            "top": null,
            "visibility": null,
            "width": null
          }
        },
        "25da8442fecd499295db8d870dc804ad": {
          "model_module": "@jupyter-widgets/controls",
          "model_name": "DescriptionStyleModel",
          "model_module_version": "1.5.0",
          "state": {
            "_model_module": "@jupyter-widgets/controls",
            "_model_module_version": "1.5.0",
            "_model_name": "DescriptionStyleModel",
            "_view_count": null,
            "_view_module": "@jupyter-widgets/base",
            "_view_module_version": "1.2.0",
            "_view_name": "StyleView",
            "description_width": ""
          }
        },
        "5104096f42fb4e5ea7a88b4926ec1f2e": {
          "model_module": "@jupyter-widgets/controls",
          "model_name": "HBoxModel",
          "model_module_version": "1.5.0",
          "state": {
            "_dom_classes": [],
            "_model_module": "@jupyter-widgets/controls",
            "_model_module_version": "1.5.0",
            "_model_name": "HBoxModel",
            "_view_count": null,
            "_view_module": "@jupyter-widgets/controls",
            "_view_module_version": "1.5.0",
            "_view_name": "HBoxView",
            "box_style": "",
            "children": [
              "IPY_MODEL_27d3925885954384af672d733938183c",
              "IPY_MODEL_b52e40b041df48ac86adc99d90e81544",
              "IPY_MODEL_37a709bdd1a44421b1e801aae4a48ea6"
            ],
            "layout": "IPY_MODEL_344da82b98bb4ea79e931aa4aae54e4b"
          }
        },
        "27d3925885954384af672d733938183c": {
          "model_module": "@jupyter-widgets/controls",
          "model_name": "HTMLModel",
          "model_module_version": "1.5.0",
          "state": {
            "_dom_classes": [],
            "_model_module": "@jupyter-widgets/controls",
            "_model_module_version": "1.5.0",
            "_model_name": "HTMLModel",
            "_view_count": null,
            "_view_module": "@jupyter-widgets/controls",
            "_view_module_version": "1.5.0",
            "_view_name": "HTMLView",
            "description": "",
            "description_tooltip": null,
            "layout": "IPY_MODEL_00aa7eef8f9d4fcbafccc4462dd5fced",
            "placeholder": "​",
            "style": "IPY_MODEL_0caca0e9b3af48febf2ca77d951e242c",
            "value": "100%"
          }
        },
        "b52e40b041df48ac86adc99d90e81544": {
          "model_module": "@jupyter-widgets/controls",
          "model_name": "FloatProgressModel",
          "model_module_version": "1.5.0",
          "state": {
            "_dom_classes": [],
            "_model_module": "@jupyter-widgets/controls",
            "_model_module_version": "1.5.0",
            "_model_name": "FloatProgressModel",
            "_view_count": null,
            "_view_module": "@jupyter-widgets/controls",
            "_view_module_version": "1.5.0",
            "_view_name": "ProgressView",
            "bar_style": "success",
            "description": "",
            "description_tooltip": null,
            "layout": "IPY_MODEL_3158d8b283e342b686325b97e5fcd7da",
            "max": 20,
            "min": 0,
            "orientation": "horizontal",
            "style": "IPY_MODEL_d5c5bc9a7220455fafb967c8e80ad2e5",
            "value": 20
          }
        },
        "37a709bdd1a44421b1e801aae4a48ea6": {
          "model_module": "@jupyter-widgets/controls",
          "model_name": "HTMLModel",
          "model_module_version": "1.5.0",
          "state": {
            "_dom_classes": [],
            "_model_module": "@jupyter-widgets/controls",
            "_model_module_version": "1.5.0",
            "_model_name": "HTMLModel",
            "_view_count": null,
            "_view_module": "@jupyter-widgets/controls",
            "_view_module_version": "1.5.0",
            "_view_name": "HTMLView",
            "description": "",
            "description_tooltip": null,
            "layout": "IPY_MODEL_eb4aab7329ff4207900bac5da51874ab",
            "placeholder": "​",
            "style": "IPY_MODEL_a92e0d73265c4a019a0a06b91982041a",
            "value": " 20/20 [06:21&lt;00:00, 18.85s/it]"
          }
        },
        "344da82b98bb4ea79e931aa4aae54e4b": {
          "model_module": "@jupyter-widgets/base",
          "model_name": "LayoutModel",
          "model_module_version": "1.2.0",
          "state": {
            "_model_module": "@jupyter-widgets/base",
            "_model_module_version": "1.2.0",
            "_model_name": "LayoutModel",
            "_view_count": null,
            "_view_module": "@jupyter-widgets/base",
            "_view_module_version": "1.2.0",
            "_view_name": "LayoutView",
            "align_content": null,
            "align_items": null,
            "align_self": null,
            "border": null,
            "bottom": null,
            "display": null,
            "flex": null,
            "flex_flow": null,
            "grid_area": null,
            "grid_auto_columns": null,
            "grid_auto_flow": null,
            "grid_auto_rows": null,
            "grid_column": null,
            "grid_gap": null,
            "grid_row": null,
            "grid_template_areas": null,
            "grid_template_columns": null,
            "grid_template_rows": null,
            "height": null,
            "justify_content": null,
            "justify_items": null,
            "left": null,
            "margin": null,
            "max_height": null,
            "max_width": null,
            "min_height": null,
            "min_width": null,
            "object_fit": null,
            "object_position": null,
            "order": null,
            "overflow": null,
            "overflow_x": null,
            "overflow_y": null,
            "padding": null,
            "right": null,
            "top": null,
            "visibility": null,
            "width": null
          }
        },
        "00aa7eef8f9d4fcbafccc4462dd5fced": {
          "model_module": "@jupyter-widgets/base",
          "model_name": "LayoutModel",
          "model_module_version": "1.2.0",
          "state": {
            "_model_module": "@jupyter-widgets/base",
            "_model_module_version": "1.2.0",
            "_model_name": "LayoutModel",
            "_view_count": null,
            "_view_module": "@jupyter-widgets/base",
            "_view_module_version": "1.2.0",
            "_view_name": "LayoutView",
            "align_content": null,
            "align_items": null,
            "align_self": null,
            "border": null,
            "bottom": null,
            "display": null,
            "flex": null,
            "flex_flow": null,
            "grid_area": null,
            "grid_auto_columns": null,
            "grid_auto_flow": null,
            "grid_auto_rows": null,
            "grid_column": null,
            "grid_gap": null,
            "grid_row": null,
            "grid_template_areas": null,
            "grid_template_columns": null,
            "grid_template_rows": null,
            "height": null,
            "justify_content": null,
            "justify_items": null,
            "left": null,
            "margin": null,
            "max_height": null,
            "max_width": null,
            "min_height": null,
            "min_width": null,
            "object_fit": null,
            "object_position": null,
            "order": null,
            "overflow": null,
            "overflow_x": null,
            "overflow_y": null,
            "padding": null,
            "right": null,
            "top": null,
            "visibility": null,
            "width": null
          }
        },
        "0caca0e9b3af48febf2ca77d951e242c": {
          "model_module": "@jupyter-widgets/controls",
          "model_name": "DescriptionStyleModel",
          "model_module_version": "1.5.0",
          "state": {
            "_model_module": "@jupyter-widgets/controls",
            "_model_module_version": "1.5.0",
            "_model_name": "DescriptionStyleModel",
            "_view_count": null,
            "_view_module": "@jupyter-widgets/base",
            "_view_module_version": "1.2.0",
            "_view_name": "StyleView",
            "description_width": ""
          }
        },
        "3158d8b283e342b686325b97e5fcd7da": {
          "model_module": "@jupyter-widgets/base",
          "model_name": "LayoutModel",
          "model_module_version": "1.2.0",
          "state": {
            "_model_module": "@jupyter-widgets/base",
            "_model_module_version": "1.2.0",
            "_model_name": "LayoutModel",
            "_view_count": null,
            "_view_module": "@jupyter-widgets/base",
            "_view_module_version": "1.2.0",
            "_view_name": "LayoutView",
            "align_content": null,
            "align_items": null,
            "align_self": null,
            "border": null,
            "bottom": null,
            "display": null,
            "flex": null,
            "flex_flow": null,
            "grid_area": null,
            "grid_auto_columns": null,
            "grid_auto_flow": null,
            "grid_auto_rows": null,
            "grid_column": null,
            "grid_gap": null,
            "grid_row": null,
            "grid_template_areas": null,
            "grid_template_columns": null,
            "grid_template_rows": null,
            "height": null,
            "justify_content": null,
            "justify_items": null,
            "left": null,
            "margin": null,
            "max_height": null,
            "max_width": null,
            "min_height": null,
            "min_width": null,
            "object_fit": null,
            "object_position": null,
            "order": null,
            "overflow": null,
            "overflow_x": null,
            "overflow_y": null,
            "padding": null,
            "right": null,
            "top": null,
            "visibility": null,
            "width": null
          }
        },
        "d5c5bc9a7220455fafb967c8e80ad2e5": {
          "model_module": "@jupyter-widgets/controls",
          "model_name": "ProgressStyleModel",
          "model_module_version": "1.5.0",
          "state": {
            "_model_module": "@jupyter-widgets/controls",
            "_model_module_version": "1.5.0",
            "_model_name": "ProgressStyleModel",
            "_view_count": null,
            "_view_module": "@jupyter-widgets/base",
            "_view_module_version": "1.2.0",
            "_view_name": "StyleView",
            "bar_color": null,
            "description_width": ""
          }
        },
        "eb4aab7329ff4207900bac5da51874ab": {
          "model_module": "@jupyter-widgets/base",
          "model_name": "LayoutModel",
          "model_module_version": "1.2.0",
          "state": {
            "_model_module": "@jupyter-widgets/base",
            "_model_module_version": "1.2.0",
            "_model_name": "LayoutModel",
            "_view_count": null,
            "_view_module": "@jupyter-widgets/base",
            "_view_module_version": "1.2.0",
            "_view_name": "LayoutView",
            "align_content": null,
            "align_items": null,
            "align_self": null,
            "border": null,
            "bottom": null,
            "display": null,
            "flex": null,
            "flex_flow": null,
            "grid_area": null,
            "grid_auto_columns": null,
            "grid_auto_flow": null,
            "grid_auto_rows": null,
            "grid_column": null,
            "grid_gap": null,
            "grid_row": null,
            "grid_template_areas": null,
            "grid_template_columns": null,
            "grid_template_rows": null,
            "height": null,
            "justify_content": null,
            "justify_items": null,
            "left": null,
            "margin": null,
            "max_height": null,
            "max_width": null,
            "min_height": null,
            "min_width": null,
            "object_fit": null,
            "object_position": null,
            "order": null,
            "overflow": null,
            "overflow_x": null,
            "overflow_y": null,
            "padding": null,
            "right": null,
            "top": null,
            "visibility": null,
            "width": null
          }
        },
        "a92e0d73265c4a019a0a06b91982041a": {
          "model_module": "@jupyter-widgets/controls",
          "model_name": "DescriptionStyleModel",
          "model_module_version": "1.5.0",
          "state": {
            "_model_module": "@jupyter-widgets/controls",
            "_model_module_version": "1.5.0",
            "_model_name": "DescriptionStyleModel",
            "_view_count": null,
            "_view_module": "@jupyter-widgets/base",
            "_view_module_version": "1.2.0",
            "_view_name": "StyleView",
            "description_width": ""
          }
        },
        "e3ceeab2e6b84a308932114a52d3a4d0": {
          "model_module": "@jupyter-widgets/controls",
          "model_name": "HBoxModel",
          "model_module_version": "1.5.0",
          "state": {
            "_dom_classes": [],
            "_model_module": "@jupyter-widgets/controls",
            "_model_module_version": "1.5.0",
            "_model_name": "HBoxModel",
            "_view_count": null,
            "_view_module": "@jupyter-widgets/controls",
            "_view_module_version": "1.5.0",
            "_view_name": "HBoxView",
            "box_style": "",
            "children": [
              "IPY_MODEL_d7a211e5b9a14ae29a4b9d38c9162cb7",
              "IPY_MODEL_5a44ac903c6f44729f6b036f0884bc4d",
              "IPY_MODEL_8caa677f8e6f4463b624164373133a42"
            ],
            "layout": "IPY_MODEL_eeb5b5c722d6432b9b8f3d455078b3ab"
          }
        },
        "d7a211e5b9a14ae29a4b9d38c9162cb7": {
          "model_module": "@jupyter-widgets/controls",
          "model_name": "HTMLModel",
          "model_module_version": "1.5.0",
          "state": {
            "_dom_classes": [],
            "_model_module": "@jupyter-widgets/controls",
            "_model_module_version": "1.5.0",
            "_model_name": "HTMLModel",
            "_view_count": null,
            "_view_module": "@jupyter-widgets/controls",
            "_view_module_version": "1.5.0",
            "_view_name": "HTMLView",
            "description": "",
            "description_tooltip": null,
            "layout": "IPY_MODEL_4a467ff2628543a9a79b61d20743bd89",
            "placeholder": "​",
            "style": "IPY_MODEL_cb3663c86b734d49b16c7cd2ae538fc2",
            "value": "100%"
          }
        },
        "5a44ac903c6f44729f6b036f0884bc4d": {
          "model_module": "@jupyter-widgets/controls",
          "model_name": "FloatProgressModel",
          "model_module_version": "1.5.0",
          "state": {
            "_dom_classes": [],
            "_model_module": "@jupyter-widgets/controls",
            "_model_module_version": "1.5.0",
            "_model_name": "FloatProgressModel",
            "_view_count": null,
            "_view_module": "@jupyter-widgets/controls",
            "_view_module_version": "1.5.0",
            "_view_name": "ProgressView",
            "bar_style": "success",
            "description": "",
            "description_tooltip": null,
            "layout": "IPY_MODEL_5c6f343b8d7d43f38bd7d479de979930",
            "max": 20,
            "min": 0,
            "orientation": "horizontal",
            "style": "IPY_MODEL_e989d0116bae43d3ac33381000086a3f",
            "value": 20
          }
        },
        "8caa677f8e6f4463b624164373133a42": {
          "model_module": "@jupyter-widgets/controls",
          "model_name": "HTMLModel",
          "model_module_version": "1.5.0",
          "state": {
            "_dom_classes": [],
            "_model_module": "@jupyter-widgets/controls",
            "_model_module_version": "1.5.0",
            "_model_name": "HTMLModel",
            "_view_count": null,
            "_view_module": "@jupyter-widgets/controls",
            "_view_module_version": "1.5.0",
            "_view_name": "HTMLView",
            "description": "",
            "description_tooltip": null,
            "layout": "IPY_MODEL_aea68b662b004f55bf5b3a29b0704203",
            "placeholder": "​",
            "style": "IPY_MODEL_900fbac3129c45d1bc18c8975c0cbf23",
            "value": " 20/20 [06:14&lt;00:00, 18.53s/it]"
          }
        },
        "eeb5b5c722d6432b9b8f3d455078b3ab": {
          "model_module": "@jupyter-widgets/base",
          "model_name": "LayoutModel",
          "model_module_version": "1.2.0",
          "state": {
            "_model_module": "@jupyter-widgets/base",
            "_model_module_version": "1.2.0",
            "_model_name": "LayoutModel",
            "_view_count": null,
            "_view_module": "@jupyter-widgets/base",
            "_view_module_version": "1.2.0",
            "_view_name": "LayoutView",
            "align_content": null,
            "align_items": null,
            "align_self": null,
            "border": null,
            "bottom": null,
            "display": null,
            "flex": null,
            "flex_flow": null,
            "grid_area": null,
            "grid_auto_columns": null,
            "grid_auto_flow": null,
            "grid_auto_rows": null,
            "grid_column": null,
            "grid_gap": null,
            "grid_row": null,
            "grid_template_areas": null,
            "grid_template_columns": null,
            "grid_template_rows": null,
            "height": null,
            "justify_content": null,
            "justify_items": null,
            "left": null,
            "margin": null,
            "max_height": null,
            "max_width": null,
            "min_height": null,
            "min_width": null,
            "object_fit": null,
            "object_position": null,
            "order": null,
            "overflow": null,
            "overflow_x": null,
            "overflow_y": null,
            "padding": null,
            "right": null,
            "top": null,
            "visibility": null,
            "width": null
          }
        },
        "4a467ff2628543a9a79b61d20743bd89": {
          "model_module": "@jupyter-widgets/base",
          "model_name": "LayoutModel",
          "model_module_version": "1.2.0",
          "state": {
            "_model_module": "@jupyter-widgets/base",
            "_model_module_version": "1.2.0",
            "_model_name": "LayoutModel",
            "_view_count": null,
            "_view_module": "@jupyter-widgets/base",
            "_view_module_version": "1.2.0",
            "_view_name": "LayoutView",
            "align_content": null,
            "align_items": null,
            "align_self": null,
            "border": null,
            "bottom": null,
            "display": null,
            "flex": null,
            "flex_flow": null,
            "grid_area": null,
            "grid_auto_columns": null,
            "grid_auto_flow": null,
            "grid_auto_rows": null,
            "grid_column": null,
            "grid_gap": null,
            "grid_row": null,
            "grid_template_areas": null,
            "grid_template_columns": null,
            "grid_template_rows": null,
            "height": null,
            "justify_content": null,
            "justify_items": null,
            "left": null,
            "margin": null,
            "max_height": null,
            "max_width": null,
            "min_height": null,
            "min_width": null,
            "object_fit": null,
            "object_position": null,
            "order": null,
            "overflow": null,
            "overflow_x": null,
            "overflow_y": null,
            "padding": null,
            "right": null,
            "top": null,
            "visibility": null,
            "width": null
          }
        },
        "cb3663c86b734d49b16c7cd2ae538fc2": {
          "model_module": "@jupyter-widgets/controls",
          "model_name": "DescriptionStyleModel",
          "model_module_version": "1.5.0",
          "state": {
            "_model_module": "@jupyter-widgets/controls",
            "_model_module_version": "1.5.0",
            "_model_name": "DescriptionStyleModel",
            "_view_count": null,
            "_view_module": "@jupyter-widgets/base",
            "_view_module_version": "1.2.0",
            "_view_name": "StyleView",
            "description_width": ""
          }
        },
        "5c6f343b8d7d43f38bd7d479de979930": {
          "model_module": "@jupyter-widgets/base",
          "model_name": "LayoutModel",
          "model_module_version": "1.2.0",
          "state": {
            "_model_module": "@jupyter-widgets/base",
            "_model_module_version": "1.2.0",
            "_model_name": "LayoutModel",
            "_view_count": null,
            "_view_module": "@jupyter-widgets/base",
            "_view_module_version": "1.2.0",
            "_view_name": "LayoutView",
            "align_content": null,
            "align_items": null,
            "align_self": null,
            "border": null,
            "bottom": null,
            "display": null,
            "flex": null,
            "flex_flow": null,
            "grid_area": null,
            "grid_auto_columns": null,
            "grid_auto_flow": null,
            "grid_auto_rows": null,
            "grid_column": null,
            "grid_gap": null,
            "grid_row": null,
            "grid_template_areas": null,
            "grid_template_columns": null,
            "grid_template_rows": null,
            "height": null,
            "justify_content": null,
            "justify_items": null,
            "left": null,
            "margin": null,
            "max_height": null,
            "max_width": null,
            "min_height": null,
            "min_width": null,
            "object_fit": null,
            "object_position": null,
            "order": null,
            "overflow": null,
            "overflow_x": null,
            "overflow_y": null,
            "padding": null,
            "right": null,
            "top": null,
            "visibility": null,
            "width": null
          }
        },
        "e989d0116bae43d3ac33381000086a3f": {
          "model_module": "@jupyter-widgets/controls",
          "model_name": "ProgressStyleModel",
          "model_module_version": "1.5.0",
          "state": {
            "_model_module": "@jupyter-widgets/controls",
            "_model_module_version": "1.5.0",
            "_model_name": "ProgressStyleModel",
            "_view_count": null,
            "_view_module": "@jupyter-widgets/base",
            "_view_module_version": "1.2.0",
            "_view_name": "StyleView",
            "bar_color": null,
            "description_width": ""
          }
        },
        "aea68b662b004f55bf5b3a29b0704203": {
          "model_module": "@jupyter-widgets/base",
          "model_name": "LayoutModel",
          "model_module_version": "1.2.0",
          "state": {
            "_model_module": "@jupyter-widgets/base",
            "_model_module_version": "1.2.0",
            "_model_name": "LayoutModel",
            "_view_count": null,
            "_view_module": "@jupyter-widgets/base",
            "_view_module_version": "1.2.0",
            "_view_name": "LayoutView",
            "align_content": null,
            "align_items": null,
            "align_self": null,
            "border": null,
            "bottom": null,
            "display": null,
            "flex": null,
            "flex_flow": null,
            "grid_area": null,
            "grid_auto_columns": null,
            "grid_auto_flow": null,
            "grid_auto_rows": null,
            "grid_column": null,
            "grid_gap": null,
            "grid_row": null,
            "grid_template_areas": null,
            "grid_template_columns": null,
            "grid_template_rows": null,
            "height": null,
            "justify_content": null,
            "justify_items": null,
            "left": null,
            "margin": null,
            "max_height": null,
            "max_width": null,
            "min_height": null,
            "min_width": null,
            "object_fit": null,
            "object_position": null,
            "order": null,
            "overflow": null,
            "overflow_x": null,
            "overflow_y": null,
            "padding": null,
            "right": null,
            "top": null,
            "visibility": null,
            "width": null
          }
        },
        "900fbac3129c45d1bc18c8975c0cbf23": {
          "model_module": "@jupyter-widgets/controls",
          "model_name": "DescriptionStyleModel",
          "model_module_version": "1.5.0",
          "state": {
            "_model_module": "@jupyter-widgets/controls",
            "_model_module_version": "1.5.0",
            "_model_name": "DescriptionStyleModel",
            "_view_count": null,
            "_view_module": "@jupyter-widgets/base",
            "_view_module_version": "1.2.0",
            "_view_name": "StyleView",
            "description_width": ""
          }
        },
        "093cecf833f3404b8729b9dfb11df6ca": {
          "model_module": "@jupyter-widgets/controls",
          "model_name": "HBoxModel",
          "model_module_version": "1.5.0",
          "state": {
            "_dom_classes": [],
            "_model_module": "@jupyter-widgets/controls",
            "_model_module_version": "1.5.0",
            "_model_name": "HBoxModel",
            "_view_count": null,
            "_view_module": "@jupyter-widgets/controls",
            "_view_module_version": "1.5.0",
            "_view_name": "HBoxView",
            "box_style": "",
            "children": [
              "IPY_MODEL_bedf7da1607b40b592248a231c3c3af6",
              "IPY_MODEL_b9b08bb662ca48f0b2fd8a0c6e0c7548",
              "IPY_MODEL_c9ee3c3435fd42d9bca9518b8ee58016"
            ],
            "layout": "IPY_MODEL_decf9e57670e4545bba33e5094687a14"
          }
        },
        "bedf7da1607b40b592248a231c3c3af6": {
          "model_module": "@jupyter-widgets/controls",
          "model_name": "HTMLModel",
          "model_module_version": "1.5.0",
          "state": {
            "_dom_classes": [],
            "_model_module": "@jupyter-widgets/controls",
            "_model_module_version": "1.5.0",
            "_model_name": "HTMLModel",
            "_view_count": null,
            "_view_module": "@jupyter-widgets/controls",
            "_view_module_version": "1.5.0",
            "_view_name": "HTMLView",
            "description": "",
            "description_tooltip": null,
            "layout": "IPY_MODEL_bea285d1c8f1455880f9e46c5e5098b3",
            "placeholder": "​",
            "style": "IPY_MODEL_b035d4002fc343e38a79a46cedc30b6f",
            "value": "100%"
          }
        },
        "b9b08bb662ca48f0b2fd8a0c6e0c7548": {
          "model_module": "@jupyter-widgets/controls",
          "model_name": "FloatProgressModel",
          "model_module_version": "1.5.0",
          "state": {
            "_dom_classes": [],
            "_model_module": "@jupyter-widgets/controls",
            "_model_module_version": "1.5.0",
            "_model_name": "FloatProgressModel",
            "_view_count": null,
            "_view_module": "@jupyter-widgets/controls",
            "_view_module_version": "1.5.0",
            "_view_name": "ProgressView",
            "bar_style": "success",
            "description": "",
            "description_tooltip": null,
            "layout": "IPY_MODEL_52fb2a6ec09c4eb596d5c65c32100982",
            "max": 20,
            "min": 0,
            "orientation": "horizontal",
            "style": "IPY_MODEL_304d38436d404b7daf78222879a74405",
            "value": 20
          }
        },
        "c9ee3c3435fd42d9bca9518b8ee58016": {
          "model_module": "@jupyter-widgets/controls",
          "model_name": "HTMLModel",
          "model_module_version": "1.5.0",
          "state": {
            "_dom_classes": [],
            "_model_module": "@jupyter-widgets/controls",
            "_model_module_version": "1.5.0",
            "_model_name": "HTMLModel",
            "_view_count": null,
            "_view_module": "@jupyter-widgets/controls",
            "_view_module_version": "1.5.0",
            "_view_name": "HTMLView",
            "description": "",
            "description_tooltip": null,
            "layout": "IPY_MODEL_5d0a45ca1d5a413688dc668da33c2868",
            "placeholder": "​",
            "style": "IPY_MODEL_e366a94b20f04c5588439d525d837b7e",
            "value": " 20/20 [05:49&lt;00:00, 17.39s/it]"
          }
        },
        "decf9e57670e4545bba33e5094687a14": {
          "model_module": "@jupyter-widgets/base",
          "model_name": "LayoutModel",
          "model_module_version": "1.2.0",
          "state": {
            "_model_module": "@jupyter-widgets/base",
            "_model_module_version": "1.2.0",
            "_model_name": "LayoutModel",
            "_view_count": null,
            "_view_module": "@jupyter-widgets/base",
            "_view_module_version": "1.2.0",
            "_view_name": "LayoutView",
            "align_content": null,
            "align_items": null,
            "align_self": null,
            "border": null,
            "bottom": null,
            "display": null,
            "flex": null,
            "flex_flow": null,
            "grid_area": null,
            "grid_auto_columns": null,
            "grid_auto_flow": null,
            "grid_auto_rows": null,
            "grid_column": null,
            "grid_gap": null,
            "grid_row": null,
            "grid_template_areas": null,
            "grid_template_columns": null,
            "grid_template_rows": null,
            "height": null,
            "justify_content": null,
            "justify_items": null,
            "left": null,
            "margin": null,
            "max_height": null,
            "max_width": null,
            "min_height": null,
            "min_width": null,
            "object_fit": null,
            "object_position": null,
            "order": null,
            "overflow": null,
            "overflow_x": null,
            "overflow_y": null,
            "padding": null,
            "right": null,
            "top": null,
            "visibility": null,
            "width": null
          }
        },
        "bea285d1c8f1455880f9e46c5e5098b3": {
          "model_module": "@jupyter-widgets/base",
          "model_name": "LayoutModel",
          "model_module_version": "1.2.0",
          "state": {
            "_model_module": "@jupyter-widgets/base",
            "_model_module_version": "1.2.0",
            "_model_name": "LayoutModel",
            "_view_count": null,
            "_view_module": "@jupyter-widgets/base",
            "_view_module_version": "1.2.0",
            "_view_name": "LayoutView",
            "align_content": null,
            "align_items": null,
            "align_self": null,
            "border": null,
            "bottom": null,
            "display": null,
            "flex": null,
            "flex_flow": null,
            "grid_area": null,
            "grid_auto_columns": null,
            "grid_auto_flow": null,
            "grid_auto_rows": null,
            "grid_column": null,
            "grid_gap": null,
            "grid_row": null,
            "grid_template_areas": null,
            "grid_template_columns": null,
            "grid_template_rows": null,
            "height": null,
            "justify_content": null,
            "justify_items": null,
            "left": null,
            "margin": null,
            "max_height": null,
            "max_width": null,
            "min_height": null,
            "min_width": null,
            "object_fit": null,
            "object_position": null,
            "order": null,
            "overflow": null,
            "overflow_x": null,
            "overflow_y": null,
            "padding": null,
            "right": null,
            "top": null,
            "visibility": null,
            "width": null
          }
        },
        "b035d4002fc343e38a79a46cedc30b6f": {
          "model_module": "@jupyter-widgets/controls",
          "model_name": "DescriptionStyleModel",
          "model_module_version": "1.5.0",
          "state": {
            "_model_module": "@jupyter-widgets/controls",
            "_model_module_version": "1.5.0",
            "_model_name": "DescriptionStyleModel",
            "_view_count": null,
            "_view_module": "@jupyter-widgets/base",
            "_view_module_version": "1.2.0",
            "_view_name": "StyleView",
            "description_width": ""
          }
        },
        "52fb2a6ec09c4eb596d5c65c32100982": {
          "model_module": "@jupyter-widgets/base",
          "model_name": "LayoutModel",
          "model_module_version": "1.2.0",
          "state": {
            "_model_module": "@jupyter-widgets/base",
            "_model_module_version": "1.2.0",
            "_model_name": "LayoutModel",
            "_view_count": null,
            "_view_module": "@jupyter-widgets/base",
            "_view_module_version": "1.2.0",
            "_view_name": "LayoutView",
            "align_content": null,
            "align_items": null,
            "align_self": null,
            "border": null,
            "bottom": null,
            "display": null,
            "flex": null,
            "flex_flow": null,
            "grid_area": null,
            "grid_auto_columns": null,
            "grid_auto_flow": null,
            "grid_auto_rows": null,
            "grid_column": null,
            "grid_gap": null,
            "grid_row": null,
            "grid_template_areas": null,
            "grid_template_columns": null,
            "grid_template_rows": null,
            "height": null,
            "justify_content": null,
            "justify_items": null,
            "left": null,
            "margin": null,
            "max_height": null,
            "max_width": null,
            "min_height": null,
            "min_width": null,
            "object_fit": null,
            "object_position": null,
            "order": null,
            "overflow": null,
            "overflow_x": null,
            "overflow_y": null,
            "padding": null,
            "right": null,
            "top": null,
            "visibility": null,
            "width": null
          }
        },
        "304d38436d404b7daf78222879a74405": {
          "model_module": "@jupyter-widgets/controls",
          "model_name": "ProgressStyleModel",
          "model_module_version": "1.5.0",
          "state": {
            "_model_module": "@jupyter-widgets/controls",
            "_model_module_version": "1.5.0",
            "_model_name": "ProgressStyleModel",
            "_view_count": null,
            "_view_module": "@jupyter-widgets/base",
            "_view_module_version": "1.2.0",
            "_view_name": "StyleView",
            "bar_color": null,
            "description_width": ""
          }
        },
        "5d0a45ca1d5a413688dc668da33c2868": {
          "model_module": "@jupyter-widgets/base",
          "model_name": "LayoutModel",
          "model_module_version": "1.2.0",
          "state": {
            "_model_module": "@jupyter-widgets/base",
            "_model_module_version": "1.2.0",
            "_model_name": "LayoutModel",
            "_view_count": null,
            "_view_module": "@jupyter-widgets/base",
            "_view_module_version": "1.2.0",
            "_view_name": "LayoutView",
            "align_content": null,
            "align_items": null,
            "align_self": null,
            "border": null,
            "bottom": null,
            "display": null,
            "flex": null,
            "flex_flow": null,
            "grid_area": null,
            "grid_auto_columns": null,
            "grid_auto_flow": null,
            "grid_auto_rows": null,
            "grid_column": null,
            "grid_gap": null,
            "grid_row": null,
            "grid_template_areas": null,
            "grid_template_columns": null,
            "grid_template_rows": null,
            "height": null,
            "justify_content": null,
            "justify_items": null,
            "left": null,
            "margin": null,
            "max_height": null,
            "max_width": null,
            "min_height": null,
            "min_width": null,
            "object_fit": null,
            "object_position": null,
            "order": null,
            "overflow": null,
            "overflow_x": null,
            "overflow_y": null,
            "padding": null,
            "right": null,
            "top": null,
            "visibility": null,
            "width": null
          }
        },
        "e366a94b20f04c5588439d525d837b7e": {
          "model_module": "@jupyter-widgets/controls",
          "model_name": "DescriptionStyleModel",
          "model_module_version": "1.5.0",
          "state": {
            "_model_module": "@jupyter-widgets/controls",
            "_model_module_version": "1.5.0",
            "_model_name": "DescriptionStyleModel",
            "_view_count": null,
            "_view_module": "@jupyter-widgets/base",
            "_view_module_version": "1.2.0",
            "_view_name": "StyleView",
            "description_width": ""
          }
        },
        "a6a3454c2426484c800c387ab85feba0": {
          "model_module": "@jupyter-widgets/controls",
          "model_name": "HBoxModel",
          "model_module_version": "1.5.0",
          "state": {
            "_dom_classes": [],
            "_model_module": "@jupyter-widgets/controls",
            "_model_module_version": "1.5.0",
            "_model_name": "HBoxModel",
            "_view_count": null,
            "_view_module": "@jupyter-widgets/controls",
            "_view_module_version": "1.5.0",
            "_view_name": "HBoxView",
            "box_style": "",
            "children": [
              "IPY_MODEL_971eeeebd91c4f9da2a10ae636ed4b09",
              "IPY_MODEL_66dca9cf7d8f4cc2856766444230c014",
              "IPY_MODEL_85b442c6ba5344eb98e479135cc40253"
            ],
            "layout": "IPY_MODEL_78a40f3a65ca44f9affe1daf3c48b987"
          }
        },
        "971eeeebd91c4f9da2a10ae636ed4b09": {
          "model_module": "@jupyter-widgets/controls",
          "model_name": "HTMLModel",
          "model_module_version": "1.5.0",
          "state": {
            "_dom_classes": [],
            "_model_module": "@jupyter-widgets/controls",
            "_model_module_version": "1.5.0",
            "_model_name": "HTMLModel",
            "_view_count": null,
            "_view_module": "@jupyter-widgets/controls",
            "_view_module_version": "1.5.0",
            "_view_name": "HTMLView",
            "description": "",
            "description_tooltip": null,
            "layout": "IPY_MODEL_ccdf7c000bcf4aee8c45ba5de25d15e2",
            "placeholder": "​",
            "style": "IPY_MODEL_77b57b5a334444a2a51f6fdc2149666a",
            "value": "100%"
          }
        },
        "66dca9cf7d8f4cc2856766444230c014": {
          "model_module": "@jupyter-widgets/controls",
          "model_name": "FloatProgressModel",
          "model_module_version": "1.5.0",
          "state": {
            "_dom_classes": [],
            "_model_module": "@jupyter-widgets/controls",
            "_model_module_version": "1.5.0",
            "_model_name": "FloatProgressModel",
            "_view_count": null,
            "_view_module": "@jupyter-widgets/controls",
            "_view_module_version": "1.5.0",
            "_view_name": "ProgressView",
            "bar_style": "success",
            "description": "",
            "description_tooltip": null,
            "layout": "IPY_MODEL_e7d5cc4feadb4628bb614ad2763bddd3",
            "max": 50,
            "min": 0,
            "orientation": "horizontal",
            "style": "IPY_MODEL_1d1c21b4fed544c8aff978a1980163a5",
            "value": 50
          }
        },
        "85b442c6ba5344eb98e479135cc40253": {
          "model_module": "@jupyter-widgets/controls",
          "model_name": "HTMLModel",
          "model_module_version": "1.5.0",
          "state": {
            "_dom_classes": [],
            "_model_module": "@jupyter-widgets/controls",
            "_model_module_version": "1.5.0",
            "_model_name": "HTMLModel",
            "_view_count": null,
            "_view_module": "@jupyter-widgets/controls",
            "_view_module_version": "1.5.0",
            "_view_name": "HTMLView",
            "description": "",
            "description_tooltip": null,
            "layout": "IPY_MODEL_6b4c4d93454a4b03bb94fc01cc151972",
            "placeholder": "​",
            "style": "IPY_MODEL_d08f59e7213643bc8a3e702176222192",
            "value": " 50/50 [14:21&lt;00:00, 17.23s/it]"
          }
        },
        "78a40f3a65ca44f9affe1daf3c48b987": {
          "model_module": "@jupyter-widgets/base",
          "model_name": "LayoutModel",
          "model_module_version": "1.2.0",
          "state": {
            "_model_module": "@jupyter-widgets/base",
            "_model_module_version": "1.2.0",
            "_model_name": "LayoutModel",
            "_view_count": null,
            "_view_module": "@jupyter-widgets/base",
            "_view_module_version": "1.2.0",
            "_view_name": "LayoutView",
            "align_content": null,
            "align_items": null,
            "align_self": null,
            "border": null,
            "bottom": null,
            "display": null,
            "flex": null,
            "flex_flow": null,
            "grid_area": null,
            "grid_auto_columns": null,
            "grid_auto_flow": null,
            "grid_auto_rows": null,
            "grid_column": null,
            "grid_gap": null,
            "grid_row": null,
            "grid_template_areas": null,
            "grid_template_columns": null,
            "grid_template_rows": null,
            "height": null,
            "justify_content": null,
            "justify_items": null,
            "left": null,
            "margin": null,
            "max_height": null,
            "max_width": null,
            "min_height": null,
            "min_width": null,
            "object_fit": null,
            "object_position": null,
            "order": null,
            "overflow": null,
            "overflow_x": null,
            "overflow_y": null,
            "padding": null,
            "right": null,
            "top": null,
            "visibility": null,
            "width": null
          }
        },
        "ccdf7c000bcf4aee8c45ba5de25d15e2": {
          "model_module": "@jupyter-widgets/base",
          "model_name": "LayoutModel",
          "model_module_version": "1.2.0",
          "state": {
            "_model_module": "@jupyter-widgets/base",
            "_model_module_version": "1.2.0",
            "_model_name": "LayoutModel",
            "_view_count": null,
            "_view_module": "@jupyter-widgets/base",
            "_view_module_version": "1.2.0",
            "_view_name": "LayoutView",
            "align_content": null,
            "align_items": null,
            "align_self": null,
            "border": null,
            "bottom": null,
            "display": null,
            "flex": null,
            "flex_flow": null,
            "grid_area": null,
            "grid_auto_columns": null,
            "grid_auto_flow": null,
            "grid_auto_rows": null,
            "grid_column": null,
            "grid_gap": null,
            "grid_row": null,
            "grid_template_areas": null,
            "grid_template_columns": null,
            "grid_template_rows": null,
            "height": null,
            "justify_content": null,
            "justify_items": null,
            "left": null,
            "margin": null,
            "max_height": null,
            "max_width": null,
            "min_height": null,
            "min_width": null,
            "object_fit": null,
            "object_position": null,
            "order": null,
            "overflow": null,
            "overflow_x": null,
            "overflow_y": null,
            "padding": null,
            "right": null,
            "top": null,
            "visibility": null,
            "width": null
          }
        },
        "77b57b5a334444a2a51f6fdc2149666a": {
          "model_module": "@jupyter-widgets/controls",
          "model_name": "DescriptionStyleModel",
          "model_module_version": "1.5.0",
          "state": {
            "_model_module": "@jupyter-widgets/controls",
            "_model_module_version": "1.5.0",
            "_model_name": "DescriptionStyleModel",
            "_view_count": null,
            "_view_module": "@jupyter-widgets/base",
            "_view_module_version": "1.2.0",
            "_view_name": "StyleView",
            "description_width": ""
          }
        },
        "e7d5cc4feadb4628bb614ad2763bddd3": {
          "model_module": "@jupyter-widgets/base",
          "model_name": "LayoutModel",
          "model_module_version": "1.2.0",
          "state": {
            "_model_module": "@jupyter-widgets/base",
            "_model_module_version": "1.2.0",
            "_model_name": "LayoutModel",
            "_view_count": null,
            "_view_module": "@jupyter-widgets/base",
            "_view_module_version": "1.2.0",
            "_view_name": "LayoutView",
            "align_content": null,
            "align_items": null,
            "align_self": null,
            "border": null,
            "bottom": null,
            "display": null,
            "flex": null,
            "flex_flow": null,
            "grid_area": null,
            "grid_auto_columns": null,
            "grid_auto_flow": null,
            "grid_auto_rows": null,
            "grid_column": null,
            "grid_gap": null,
            "grid_row": null,
            "grid_template_areas": null,
            "grid_template_columns": null,
            "grid_template_rows": null,
            "height": null,
            "justify_content": null,
            "justify_items": null,
            "left": null,
            "margin": null,
            "max_height": null,
            "max_width": null,
            "min_height": null,
            "min_width": null,
            "object_fit": null,
            "object_position": null,
            "order": null,
            "overflow": null,
            "overflow_x": null,
            "overflow_y": null,
            "padding": null,
            "right": null,
            "top": null,
            "visibility": null,
            "width": null
          }
        },
        "1d1c21b4fed544c8aff978a1980163a5": {
          "model_module": "@jupyter-widgets/controls",
          "model_name": "ProgressStyleModel",
          "model_module_version": "1.5.0",
          "state": {
            "_model_module": "@jupyter-widgets/controls",
            "_model_module_version": "1.5.0",
            "_model_name": "ProgressStyleModel",
            "_view_count": null,
            "_view_module": "@jupyter-widgets/base",
            "_view_module_version": "1.2.0",
            "_view_name": "StyleView",
            "bar_color": null,
            "description_width": ""
          }
        },
        "6b4c4d93454a4b03bb94fc01cc151972": {
          "model_module": "@jupyter-widgets/base",
          "model_name": "LayoutModel",
          "model_module_version": "1.2.0",
          "state": {
            "_model_module": "@jupyter-widgets/base",
            "_model_module_version": "1.2.0",
            "_model_name": "LayoutModel",
            "_view_count": null,
            "_view_module": "@jupyter-widgets/base",
            "_view_module_version": "1.2.0",
            "_view_name": "LayoutView",
            "align_content": null,
            "align_items": null,
            "align_self": null,
            "border": null,
            "bottom": null,
            "display": null,
            "flex": null,
            "flex_flow": null,
            "grid_area": null,
            "grid_auto_columns": null,
            "grid_auto_flow": null,
            "grid_auto_rows": null,
            "grid_column": null,
            "grid_gap": null,
            "grid_row": null,
            "grid_template_areas": null,
            "grid_template_columns": null,
            "grid_template_rows": null,
            "height": null,
            "justify_content": null,
            "justify_items": null,
            "left": null,
            "margin": null,
            "max_height": null,
            "max_width": null,
            "min_height": null,
            "min_width": null,
            "object_fit": null,
            "object_position": null,
            "order": null,
            "overflow": null,
            "overflow_x": null,
            "overflow_y": null,
            "padding": null,
            "right": null,
            "top": null,
            "visibility": null,
            "width": null
          }
        },
        "d08f59e7213643bc8a3e702176222192": {
          "model_module": "@jupyter-widgets/controls",
          "model_name": "DescriptionStyleModel",
          "model_module_version": "1.5.0",
          "state": {
            "_model_module": "@jupyter-widgets/controls",
            "_model_module_version": "1.5.0",
            "_model_name": "DescriptionStyleModel",
            "_view_count": null,
            "_view_module": "@jupyter-widgets/base",
            "_view_module_version": "1.2.0",
            "_view_name": "StyleView",
            "description_width": ""
          }
        },
        "bfa141c82af54512b7e808600ea1d06b": {
          "model_module": "@jupyter-widgets/controls",
          "model_name": "HBoxModel",
          "model_module_version": "1.5.0",
          "state": {
            "_dom_classes": [],
            "_model_module": "@jupyter-widgets/controls",
            "_model_module_version": "1.5.0",
            "_model_name": "HBoxModel",
            "_view_count": null,
            "_view_module": "@jupyter-widgets/controls",
            "_view_module_version": "1.5.0",
            "_view_name": "HBoxView",
            "box_style": "",
            "children": [
              "IPY_MODEL_3373b413efeb4e41b0b6406db5023337",
              "IPY_MODEL_39db72a83f6a45bb978c10b77b06e222",
              "IPY_MODEL_de2ec79d411846979136263be70aae72"
            ],
            "layout": "IPY_MODEL_3729b68a4159467a914c1b8812cbcbf2"
          }
        },
        "3373b413efeb4e41b0b6406db5023337": {
          "model_module": "@jupyter-widgets/controls",
          "model_name": "HTMLModel",
          "model_module_version": "1.5.0",
          "state": {
            "_dom_classes": [],
            "_model_module": "@jupyter-widgets/controls",
            "_model_module_version": "1.5.0",
            "_model_name": "HTMLModel",
            "_view_count": null,
            "_view_module": "@jupyter-widgets/controls",
            "_view_module_version": "1.5.0",
            "_view_name": "HTMLView",
            "description": "",
            "description_tooltip": null,
            "layout": "IPY_MODEL_d20f4ff950534052a7f7e72808022f9f",
            "placeholder": "​",
            "style": "IPY_MODEL_a30ac0245d7947dfb0ef134bff7831fc",
            "value": "100%"
          }
        },
        "39db72a83f6a45bb978c10b77b06e222": {
          "model_module": "@jupyter-widgets/controls",
          "model_name": "FloatProgressModel",
          "model_module_version": "1.5.0",
          "state": {
            "_dom_classes": [],
            "_model_module": "@jupyter-widgets/controls",
            "_model_module_version": "1.5.0",
            "_model_name": "FloatProgressModel",
            "_view_count": null,
            "_view_module": "@jupyter-widgets/controls",
            "_view_module_version": "1.5.0",
            "_view_name": "ProgressView",
            "bar_style": "success",
            "description": "",
            "description_tooltip": null,
            "layout": "IPY_MODEL_23290a3c9c414aaca3a3a554733962e2",
            "max": 50,
            "min": 0,
            "orientation": "horizontal",
            "style": "IPY_MODEL_7e747f65675f40d79f82044497a65d44",
            "value": 50
          }
        },
        "de2ec79d411846979136263be70aae72": {
          "model_module": "@jupyter-widgets/controls",
          "model_name": "HTMLModel",
          "model_module_version": "1.5.0",
          "state": {
            "_dom_classes": [],
            "_model_module": "@jupyter-widgets/controls",
            "_model_module_version": "1.5.0",
            "_model_name": "HTMLModel",
            "_view_count": null,
            "_view_module": "@jupyter-widgets/controls",
            "_view_module_version": "1.5.0",
            "_view_name": "HTMLView",
            "description": "",
            "description_tooltip": null,
            "layout": "IPY_MODEL_67adac00685d428294301a310d4b9785",
            "placeholder": "​",
            "style": "IPY_MODEL_5f112358d4d24624bb2336953a55bbd5",
            "value": " 50/50 [15:20&lt;00:00, 18.54s/it]"
          }
        },
        "3729b68a4159467a914c1b8812cbcbf2": {
          "model_module": "@jupyter-widgets/base",
          "model_name": "LayoutModel",
          "model_module_version": "1.2.0",
          "state": {
            "_model_module": "@jupyter-widgets/base",
            "_model_module_version": "1.2.0",
            "_model_name": "LayoutModel",
            "_view_count": null,
            "_view_module": "@jupyter-widgets/base",
            "_view_module_version": "1.2.0",
            "_view_name": "LayoutView",
            "align_content": null,
            "align_items": null,
            "align_self": null,
            "border": null,
            "bottom": null,
            "display": null,
            "flex": null,
            "flex_flow": null,
            "grid_area": null,
            "grid_auto_columns": null,
            "grid_auto_flow": null,
            "grid_auto_rows": null,
            "grid_column": null,
            "grid_gap": null,
            "grid_row": null,
            "grid_template_areas": null,
            "grid_template_columns": null,
            "grid_template_rows": null,
            "height": null,
            "justify_content": null,
            "justify_items": null,
            "left": null,
            "margin": null,
            "max_height": null,
            "max_width": null,
            "min_height": null,
            "min_width": null,
            "object_fit": null,
            "object_position": null,
            "order": null,
            "overflow": null,
            "overflow_x": null,
            "overflow_y": null,
            "padding": null,
            "right": null,
            "top": null,
            "visibility": null,
            "width": null
          }
        },
        "d20f4ff950534052a7f7e72808022f9f": {
          "model_module": "@jupyter-widgets/base",
          "model_name": "LayoutModel",
          "model_module_version": "1.2.0",
          "state": {
            "_model_module": "@jupyter-widgets/base",
            "_model_module_version": "1.2.0",
            "_model_name": "LayoutModel",
            "_view_count": null,
            "_view_module": "@jupyter-widgets/base",
            "_view_module_version": "1.2.0",
            "_view_name": "LayoutView",
            "align_content": null,
            "align_items": null,
            "align_self": null,
            "border": null,
            "bottom": null,
            "display": null,
            "flex": null,
            "flex_flow": null,
            "grid_area": null,
            "grid_auto_columns": null,
            "grid_auto_flow": null,
            "grid_auto_rows": null,
            "grid_column": null,
            "grid_gap": null,
            "grid_row": null,
            "grid_template_areas": null,
            "grid_template_columns": null,
            "grid_template_rows": null,
            "height": null,
            "justify_content": null,
            "justify_items": null,
            "left": null,
            "margin": null,
            "max_height": null,
            "max_width": null,
            "min_height": null,
            "min_width": null,
            "object_fit": null,
            "object_position": null,
            "order": null,
            "overflow": null,
            "overflow_x": null,
            "overflow_y": null,
            "padding": null,
            "right": null,
            "top": null,
            "visibility": null,
            "width": null
          }
        },
        "a30ac0245d7947dfb0ef134bff7831fc": {
          "model_module": "@jupyter-widgets/controls",
          "model_name": "DescriptionStyleModel",
          "model_module_version": "1.5.0",
          "state": {
            "_model_module": "@jupyter-widgets/controls",
            "_model_module_version": "1.5.0",
            "_model_name": "DescriptionStyleModel",
            "_view_count": null,
            "_view_module": "@jupyter-widgets/base",
            "_view_module_version": "1.2.0",
            "_view_name": "StyleView",
            "description_width": ""
          }
        },
        "23290a3c9c414aaca3a3a554733962e2": {
          "model_module": "@jupyter-widgets/base",
          "model_name": "LayoutModel",
          "model_module_version": "1.2.0",
          "state": {
            "_model_module": "@jupyter-widgets/base",
            "_model_module_version": "1.2.0",
            "_model_name": "LayoutModel",
            "_view_count": null,
            "_view_module": "@jupyter-widgets/base",
            "_view_module_version": "1.2.0",
            "_view_name": "LayoutView",
            "align_content": null,
            "align_items": null,
            "align_self": null,
            "border": null,
            "bottom": null,
            "display": null,
            "flex": null,
            "flex_flow": null,
            "grid_area": null,
            "grid_auto_columns": null,
            "grid_auto_flow": null,
            "grid_auto_rows": null,
            "grid_column": null,
            "grid_gap": null,
            "grid_row": null,
            "grid_template_areas": null,
            "grid_template_columns": null,
            "grid_template_rows": null,
            "height": null,
            "justify_content": null,
            "justify_items": null,
            "left": null,
            "margin": null,
            "max_height": null,
            "max_width": null,
            "min_height": null,
            "min_width": null,
            "object_fit": null,
            "object_position": null,
            "order": null,
            "overflow": null,
            "overflow_x": null,
            "overflow_y": null,
            "padding": null,
            "right": null,
            "top": null,
            "visibility": null,
            "width": null
          }
        },
        "7e747f65675f40d79f82044497a65d44": {
          "model_module": "@jupyter-widgets/controls",
          "model_name": "ProgressStyleModel",
          "model_module_version": "1.5.0",
          "state": {
            "_model_module": "@jupyter-widgets/controls",
            "_model_module_version": "1.5.0",
            "_model_name": "ProgressStyleModel",
            "_view_count": null,
            "_view_module": "@jupyter-widgets/base",
            "_view_module_version": "1.2.0",
            "_view_name": "StyleView",
            "bar_color": null,
            "description_width": ""
          }
        },
        "67adac00685d428294301a310d4b9785": {
          "model_module": "@jupyter-widgets/base",
          "model_name": "LayoutModel",
          "model_module_version": "1.2.0",
          "state": {
            "_model_module": "@jupyter-widgets/base",
            "_model_module_version": "1.2.0",
            "_model_name": "LayoutModel",
            "_view_count": null,
            "_view_module": "@jupyter-widgets/base",
            "_view_module_version": "1.2.0",
            "_view_name": "LayoutView",
            "align_content": null,
            "align_items": null,
            "align_self": null,
            "border": null,
            "bottom": null,
            "display": null,
            "flex": null,
            "flex_flow": null,
            "grid_area": null,
            "grid_auto_columns": null,
            "grid_auto_flow": null,
            "grid_auto_rows": null,
            "grid_column": null,
            "grid_gap": null,
            "grid_row": null,
            "grid_template_areas": null,
            "grid_template_columns": null,
            "grid_template_rows": null,
            "height": null,
            "justify_content": null,
            "justify_items": null,
            "left": null,
            "margin": null,
            "max_height": null,
            "max_width": null,
            "min_height": null,
            "min_width": null,
            "object_fit": null,
            "object_position": null,
            "order": null,
            "overflow": null,
            "overflow_x": null,
            "overflow_y": null,
            "padding": null,
            "right": null,
            "top": null,
            "visibility": null,
            "width": null
          }
        },
        "5f112358d4d24624bb2336953a55bbd5": {
          "model_module": "@jupyter-widgets/controls",
          "model_name": "DescriptionStyleModel",
          "model_module_version": "1.5.0",
          "state": {
            "_model_module": "@jupyter-widgets/controls",
            "_model_module_version": "1.5.0",
            "_model_name": "DescriptionStyleModel",
            "_view_count": null,
            "_view_module": "@jupyter-widgets/base",
            "_view_module_version": "1.2.0",
            "_view_name": "StyleView",
            "description_width": ""
          }
        }
      }
    }
  },
  "cells": [
    {
      "cell_type": "markdown",
      "metadata": {
        "id": "view-in-github",
        "colab_type": "text"
      },
      "source": [
        "<a href=\"https://colab.research.google.com/github/ParisDBRavo/MNIST-PYTORCH-Using-different-architectures/blob/main/Tarea4.ipynb\" target=\"_parent\"><img src=\"https://colab.research.google.com/assets/colab-badge.svg\" alt=\"Open In Colab\"/></a>"
      ]
    },
    {
      "cell_type": "markdown",
      "source": [
        "# Fashion Minst con distintas arquitecturas\n",
        "Primero vamos a importar las librerias que se utilizarán."
      ],
      "metadata": {
        "id": "hdTjo3pstPyv"
      }
    },
    {
      "cell_type": "code",
      "source": [
        "pip install torchinfo"
      ],
      "metadata": {
        "colab": {
          "base_uri": "https://localhost:8080/"
        },
        "id": "3PdbZotZJdmM",
        "outputId": "154be8ce-4310-45ad-f4b8-1107e845040c"
      },
      "execution_count": null,
      "outputs": [
        {
          "output_type": "stream",
          "name": "stdout",
          "text": [
            "Looking in indexes: https://pypi.org/simple, https://us-python.pkg.dev/colab-wheels/public/simple/\n",
            "Collecting torchinfo\n",
            "  Downloading torchinfo-1.7.1-py3-none-any.whl (22 kB)\n",
            "Installing collected packages: torchinfo\n",
            "Successfully installed torchinfo-1.7.1\n"
          ]
        }
      ]
    },
    {
      "cell_type": "code",
      "execution_count": null,
      "metadata": {
        "id": "8fzJCfxJBQyI"
      },
      "outputs": [],
      "source": [
        "import torch \n",
        "import torch.nn as nn\n",
        "import numpy as np\n",
        "from torchinfo import summary\n",
        "import matplotlib.pyplot as plt\n",
        "import torchvision\n",
        "import torchvision.transforms as transforms\n",
        "import random\n",
        "from torch.utils.data import DataLoader\n",
        "import torch.nn.functional as F\n",
        "import torch.optim as optim\n",
        "from tqdm.auto import trange\n",
        "# tomar n elementos de una secuencia\n",
        "from itertools import islice as take\n",
        "import torch.optim as optim\n"
      ]
    },
    {
      "cell_type": "markdown",
      "source": [
        "## Visualización de los Datos y separación de los datos\n"
      ],
      "metadata": {
        "id": "Lx54gM8CujeN"
      }
    },
    {
      "cell_type": "markdown",
      "source": [
        "Después se crean estas funciones tomadas del código en clase para facilitar la visualización de las imágenes."
      ],
      "metadata": {
        "id": "2vRUaL4mtbyU"
      }
    },
    {
      "cell_type": "code",
      "source": [
        "# directorio de datos\n",
        "DATA_DIR = '../data'\n",
        "\n",
        "# tamaño del lote\n",
        "BATCH_SIZE = 32\n",
        "# filas y columnas de la regilla de imágenes\n",
        "ROWS, COLS = 4, 8\n",
        "\n",
        "\n",
        "def display_grid(xs, titles, rows, cols, figsize=(12, 6)):\n",
        "    \"\"\"Displays examples in a grid.\"\"\"\n",
        "    fig, ax = plt.subplots(rows, cols, figsize=figsize)\n",
        "    i = 0\n",
        "    for r in range(rows):\n",
        "        for c in range(cols):\n",
        "            ax[r, c].imshow(xs[i].numpy().squeeze(), cmap='gray')\n",
        "            ax[r, c].set_title(titles[i])\n",
        "            ax[r, c].set_xticklabels([])\n",
        "            ax[r, c].set_yticklabels([])\n",
        "            i += 1\n",
        "    fig.tight_layout()\n",
        "    plt.show()\n",
        "\n",
        "\n",
        "def display_batch(x, titles, rows, cols, figsize=(12, 6)):\n",
        "    \"\"\"Displays a batch of processed examples in a grid.\"\"\"\n",
        "    # denormalizamos [0, 1] => [0, 255]\n",
        "    x *= 255\n",
        "    # rotamos canales (C x H x W) => (H x W x C)\n",
        "    x = x.permute(0, 2, 3, 1)\n",
        "    # convertimos a entero\n",
        "    x = (x.numpy()).astype(np.uint8)\n",
        "    # aplanamos canal\n",
        "    x = x.reshape(*x.shape[:3])\n",
        "    # desplegamos\n",
        "    display_grid(x, titles, rows, cols, figsize)\n",
        "\n",
        "    \n",
        "def set_seed(seed=0):\n",
        "    \"\"\"Initializes pseudo-random number generators.\"\"\"\n",
        "    random.seed(seed)\n",
        "    np.random.seed(seed)\n",
        "    torch.manual_seed(seed)\n",
        "\n",
        "    \n",
        "# reproducibilidad\n",
        "set_seed()"
      ],
      "metadata": {
        "id": "tASDgV6jNrrC"
      },
      "execution_count": null,
      "outputs": []
    },
    {
      "cell_type": "markdown",
      "source": [
        "Se descarga el conjunto de información llamado FashionMNIST, pytorch ya contiene este conjunto de datos y además se observan una muestra de las imágenes que contiene el conjunto."
      ],
      "metadata": {
        "id": "XZU-c61LtsP-"
      }
    },
    {
      "cell_type": "code",
      "source": [
        "# Aquí descargamos los datos de FashionMNIST es un dataset default de pytorch se puede ver más aqui:https://pytorch.org/vision/stable/generated/torchvision.datasets.FashionMNIST.html\n",
        "train_set = torchvision.datasets.FashionMNIST(\n",
        "    root = './data/FashionMNIST',\n",
        "    train = True,\n",
        "    download = True,\n",
        "    transform = transforms.Compose([\n",
        "        transforms.ToTensor()                                 \n",
        "    ])\n",
        ")\n",
        "# cargamos algunas imágenes\n",
        "images, labels = [], []\n",
        "for i in range(BATCH_SIZE):\n",
        "    x, y = train_set[i]\n",
        "    images.append(x)\n",
        "    labels.append(y)\n",
        "# desplegamos\n",
        "print(f'images[0] shape={images[0].shape} dtype={images[0].dtype}')\n",
        "titles = [str(y) for y in labels]\n",
        "display_grid(images, titles, ROWS, COLS)"
      ],
      "metadata": {
        "colab": {
          "base_uri": "https://localhost:8080/",
          "height": 876,
          "referenced_widgets": [
            "f38cbfb18d074aeebdaf8a975880b1a5",
            "7036a20eb1f54ab6a353b939a47ff690",
            "f0193c33fae344f9b0b1a735d350de26",
            "de5a9b96131d46e5a6b71a56a9086184",
            "ee5dec7dffcf4d2f9841003b9949ccca",
            "315edb91c7b1433bb3472769952421fd",
            "f69d20f96db24e538d08d910abb6f273",
            "e424bc312a6344d8852cae334cf26321",
            "f1e324b0156e4f7eb2a145c61a9e7d0f",
            "08fe7d1f7b974f8883e2fc3b9d165f86",
            "42ca7128cc774f53a17d32515425f4c1",
            "59c8a1aee345437e956034cdf31f9ed3",
            "2d4bb0b17a234798a59ae4e8b704d2e2",
            "49f77eb75f124428a1413b6894367580",
            "cd194db4a99345d2b4e40aafccbc1e0f",
            "6f6a754ce85c42ee9ccd2de408304846",
            "965481482b344ea782ba5f08a741fe60",
            "ac0e217ce11f48bbb3d6f5fb8df31372",
            "15e9c9e55d9d4afda7c18428d5bbf12c",
            "ebea170a1c7b4e0699b2e8d23ab6afdc",
            "95315b40b7f042be932791d809fbfca1",
            "4f4e111055a447af94bcc3816fcba909",
            "eddc4ad7df4e48a3b41981ef3fa9e708",
            "7036ff5cff8f4cc2860ec97ad6ac8b4c",
            "b8bf48542d9b4770b503b7b7b53cc977",
            "cf8ef00dd70d4b2d871128cfbe24ce7f",
            "5e5c3a6ba2f943d984dc24943c36618d",
            "02f6a3e0ccae487581685ee86feb637d",
            "6d7b1f8ce3fa4ab0a97c05a63b039f2b",
            "8720906a7e20422dbab7c6389dc1d646",
            "3caad396774d41489c9d1b1b05869515",
            "19433d80a1b9451c8a7fa0f5582b4f2f",
            "65130097e6984e9a8b9fabc06bf53f7a",
            "30f10d7d99f04097b3b8fd440991dc1f",
            "4ab336175ac5424cbf1c5cdad6d8495f",
            "8282abcf7d4c444faaef1bae45a95ace",
            "872a9f3cdd3146b7a2d22e58d45ccc4d",
            "c0c94b9dd2414e3ca20f8346ad45c336",
            "690e2ca4ca214eb1abfb95857f1254dd",
            "720cca5267bf4396ac7b29eecfcd2576",
            "b80d0ebdc8a04b0bae9ea4e63d9353a4",
            "747af5300fbb441e89aafcbe4ed66f17",
            "0e2dee9a47e0448c848f092a0513e2b1",
            "e8a3d599816a4b65bd6fe22eba794e4c"
          ]
        },
        "id": "kuOjdrCSEPxB",
        "outputId": "5c57f8b0-d624-4c1f-94ab-933fa8674fe5"
      },
      "execution_count": null,
      "outputs": [
        {
          "output_type": "stream",
          "name": "stdout",
          "text": [
            "Downloading http://fashion-mnist.s3-website.eu-central-1.amazonaws.com/train-images-idx3-ubyte.gz\n",
            "Downloading http://fashion-mnist.s3-website.eu-central-1.amazonaws.com/train-images-idx3-ubyte.gz to ./data/FashionMNIST/FashionMNIST/raw/train-images-idx3-ubyte.gz\n"
          ]
        },
        {
          "output_type": "display_data",
          "data": {
            "text/plain": [
              "  0%|          | 0/26421880 [00:00<?, ?it/s]"
            ],
            "application/vnd.jupyter.widget-view+json": {
              "version_major": 2,
              "version_minor": 0,
              "model_id": "f38cbfb18d074aeebdaf8a975880b1a5"
            }
          },
          "metadata": {}
        },
        {
          "output_type": "stream",
          "name": "stdout",
          "text": [
            "Extracting ./data/FashionMNIST/FashionMNIST/raw/train-images-idx3-ubyte.gz to ./data/FashionMNIST/FashionMNIST/raw\n",
            "\n",
            "Downloading http://fashion-mnist.s3-website.eu-central-1.amazonaws.com/train-labels-idx1-ubyte.gz\n",
            "Downloading http://fashion-mnist.s3-website.eu-central-1.amazonaws.com/train-labels-idx1-ubyte.gz to ./data/FashionMNIST/FashionMNIST/raw/train-labels-idx1-ubyte.gz\n"
          ]
        },
        {
          "output_type": "display_data",
          "data": {
            "text/plain": [
              "  0%|          | 0/29515 [00:00<?, ?it/s]"
            ],
            "application/vnd.jupyter.widget-view+json": {
              "version_major": 2,
              "version_minor": 0,
              "model_id": "59c8a1aee345437e956034cdf31f9ed3"
            }
          },
          "metadata": {}
        },
        {
          "output_type": "stream",
          "name": "stdout",
          "text": [
            "Extracting ./data/FashionMNIST/FashionMNIST/raw/train-labels-idx1-ubyte.gz to ./data/FashionMNIST/FashionMNIST/raw\n",
            "\n",
            "Downloading http://fashion-mnist.s3-website.eu-central-1.amazonaws.com/t10k-images-idx3-ubyte.gz\n",
            "Downloading http://fashion-mnist.s3-website.eu-central-1.amazonaws.com/t10k-images-idx3-ubyte.gz to ./data/FashionMNIST/FashionMNIST/raw/t10k-images-idx3-ubyte.gz\n"
          ]
        },
        {
          "output_type": "display_data",
          "data": {
            "text/plain": [
              "  0%|          | 0/4422102 [00:00<?, ?it/s]"
            ],
            "application/vnd.jupyter.widget-view+json": {
              "version_major": 2,
              "version_minor": 0,
              "model_id": "eddc4ad7df4e48a3b41981ef3fa9e708"
            }
          },
          "metadata": {}
        },
        {
          "output_type": "stream",
          "name": "stdout",
          "text": [
            "Extracting ./data/FashionMNIST/FashionMNIST/raw/t10k-images-idx3-ubyte.gz to ./data/FashionMNIST/FashionMNIST/raw\n",
            "\n",
            "Downloading http://fashion-mnist.s3-website.eu-central-1.amazonaws.com/t10k-labels-idx1-ubyte.gz\n",
            "Downloading http://fashion-mnist.s3-website.eu-central-1.amazonaws.com/t10k-labels-idx1-ubyte.gz to ./data/FashionMNIST/FashionMNIST/raw/t10k-labels-idx1-ubyte.gz\n"
          ]
        },
        {
          "output_type": "display_data",
          "data": {
            "text/plain": [
              "  0%|          | 0/5148 [00:00<?, ?it/s]"
            ],
            "application/vnd.jupyter.widget-view+json": {
              "version_major": 2,
              "version_minor": 0,
              "model_id": "30f10d7d99f04097b3b8fd440991dc1f"
            }
          },
          "metadata": {}
        },
        {
          "output_type": "stream",
          "name": "stdout",
          "text": [
            "Extracting ./data/FashionMNIST/FashionMNIST/raw/t10k-labels-idx1-ubyte.gz to ./data/FashionMNIST/FashionMNIST/raw\n",
            "\n",
            "images[0] shape=torch.Size([1, 28, 28]) dtype=torch.float32\n"
          ]
        },
        {
          "output_type": "display_data",
          "data": {
            "text/plain": [
              "<Figure size 864x432 with 32 Axes>"
            ],
            "image/png": "[encoded data removed]"
          },
          "metadata": {
            "needs_background": "light"
          }
        }
      ]
    },
    {
      "cell_type": "code",
      "source": [
        "#Se imprime la forma del data set y un ejemplo\n",
        "print(train_set)\n",
        "plt.imshow(images[1].numpy().squeeze(), cmap = 'Greys_r')"
      ],
      "metadata": {
        "colab": {
          "base_uri": "https://localhost:8080/",
          "height": 427
        },
        "id": "tk7Dbs7FFwPX",
        "outputId": "3ecb37cf-044c-4321-8ee5-47ed76ef75a4"
      },
      "execution_count": null,
      "outputs": [
        {
          "output_type": "stream",
          "name": "stdout",
          "text": [
            "Dataset FashionMNIST\n",
            "    Number of datapoints: 60000\n",
            "    Root location: ./data/FashionMNIST\n",
            "    Split: Train\n",
            "    StandardTransform\n",
            "Transform: Compose(\n",
            "               ToTensor()\n",
            "           )\n"
          ]
        },
        {
          "output_type": "execute_result",
          "data": {
            "text/plain": [
              "<matplotlib.image.AxesImage at 0x7f2a5df7e590>"
            ]
          },
          "metadata": {},
          "execution_count": 6
        },
        {
          "output_type": "display_data",
          "data": {
            "text/plain": [
              "<Figure size 432x288 with 1 Axes>"
            ],
            "image/png": "[encoded data removed]"
          },
          "metadata": {
            "needs_background": "light"
          }
        }
      ]
    },
    {
      "cell_type": "markdown",
      "source": [
        "### División de los datos\n",
        "En la parte anterior del colab ya se cargaron los datos de entranamiento y se guardaron en un conjunto, siendo ya transformados a un tensoe de pytorch por la linea transform. Ahora se descargaran las imágenes y se guardaran las que se utilizarán para poner a prueba la red una vez entrenada. Al ser un conjunto propio de pytorch basta con ponerle a la línea $train$ un valor de $False$ y como se muestra en la graficación de las imágenes corresponden a distintas imagenes a las que están en el test_set."
      ],
      "metadata": {
        "id": "cPKG6voTuhdZ"
      }
    },
    {
      "cell_type": "code",
      "source": [
        "test_set = torchvision.datasets.FashionMNIST(\n",
        "    root = './data/FashionMNIST',\n",
        "    train = False,\n",
        "    download = True,\n",
        "    transform = transforms.Compose([\n",
        "        transforms.ToTensor()                                 \n",
        "    ])\n",
        ")\n",
        "print(test_set)\n",
        "print(train_set)"
      ],
      "metadata": {
        "id": "PZ5dU53rMvEL",
        "colab": {
          "base_uri": "https://localhost:8080/"
        },
        "outputId": "1fbb7af5-02a9-4ede-9c63-78d6e38604cc"
      },
      "execution_count": null,
      "outputs": [
        {
          "output_type": "stream",
          "name": "stdout",
          "text": [
            "Dataset FashionMNIST\n",
            "    Number of datapoints: 10000\n",
            "    Root location: ./data/FashionMNIST\n",
            "    Split: Test\n",
            "    StandardTransform\n",
            "Transform: Compose(\n",
            "               ToTensor()\n",
            "           )\n",
            "Dataset FashionMNIST\n",
            "    Number of datapoints: 60000\n",
            "    Root location: ./data/FashionMNIST\n",
            "    Split: Train\n",
            "    StandardTransform\n",
            "Transform: Compose(\n",
            "               ToTensor()\n",
            "           )\n"
          ]
        }
      ]
    },
    {
      "cell_type": "code",
      "source": [
        "# cargamos algunas imágenes\n",
        "images, labels = [], []\n",
        "for i in range(BATCH_SIZE):\n",
        "    x, y = test_set[i]\n",
        "    images.append(x)\n",
        "    labels.append(y)\n",
        "# desplegamos\n",
        "print(f'images[0] shape={images[0].shape} dtype={images[0].dtype}')\n",
        "titles = [str(y) for y in labels]\n",
        "display_grid(images, titles, ROWS, COLS)"
      ],
      "metadata": {
        "colab": {
          "base_uri": "https://localhost:8080/",
          "height": 459
        },
        "id": "fPRmYKh9nfvl",
        "outputId": "09c8155d-79cf-4ad5-bf63-673eccaea2cf"
      },
      "execution_count": null,
      "outputs": [
        {
          "output_type": "stream",
          "name": "stdout",
          "text": [
            "images[0] shape=torch.Size([1, 28, 28]) dtype=torch.float32\n"
          ]
        },
        {
          "output_type": "display_data",
          "data": {
            "text/plain": [
              "<Figure size 864x432 with 32 Axes>"
            ],
            "image/png": "[encoded data removed]"
          },
          "metadata": {
            "needs_background": "light"
          }
        }
      ]
    },
    {
      "cell_type": "markdown",
      "source": [
        "Ahora vamos a crear un data Loader para acceder más fácil a los datos y también utilizar el batch_size.\n"
      ],
      "metadata": {
        "id": "26DXgvhXqOzp"
      }
    },
    {
      "cell_type": "code",
      "source": [
        "test_dl = DataLoader(\n",
        "    # subconjunto\n",
        "    test_set,\n",
        "    # tamaño del lote\n",
        "    batch_size=BATCH_SIZE,\n",
        "    # desordenar\n",
        "    shuffle=True\n",
        ")\n",
        "train_dl = DataLoader(\n",
        "    # subconjunto\n",
        "    train_set,\n",
        "    # tamaño del lote\n",
        "    batch_size=BATCH_SIZE,\n",
        "    # desordenar\n",
        "    shuffle=True\n",
        ")"
      ],
      "metadata": {
        "id": "7e97jD8Fqg64"
      },
      "execution_count": null,
      "outputs": []
    },
    {
      "cell_type": "markdown",
      "source": [
        "## Definción de las arquitecturas a utilizar.\n",
        "Todas van a recibir algo de tamaño 784 ya que las imágenes se van a aplanar y son de tamaño $28×28=784$. Se utilizaran primeramente dos arquitecturas iguales pero cambiando la función de activación entre ellas emplendo para el primer caso una función ReLU mientras para el segundo caso una función Sigmoide. Al final ambos serán activados por la función Softmax.\n"
      ],
      "metadata": {
        "id": "-r013J1UGRRO"
      }
    },
    {
      "cell_type": "markdown",
      "source": [
        "### Primer Modelo"
      ],
      "metadata": {
        "id": "kvMdnvks3j7l"
      }
    },
    {
      "cell_type": "code",
      "source": [
        "def PrimerModelo():\n",
        "  model = nn.Sequential(\n",
        "    nn.Flatten(),\n",
        "    nn.Linear(784, 256),\n",
        "    nn.ReLU(),\n",
        "    nn.Linear(256,10),\n",
        "  )\n",
        "  return model\n",
        "PrimerModelo()"
      ],
      "metadata": {
        "colab": {
          "base_uri": "https://localhost:8080/"
        },
        "id": "EmHbvk1XGuxZ",
        "outputId": "645d4461-f497-43f4-bcc1-c115629dced6"
      },
      "execution_count": null,
      "outputs": [
        {
          "output_type": "execute_result",
          "data": {
            "text/plain": [
              "Sequential(\n",
              "  (0): Flatten(start_dim=1, end_dim=-1)\n",
              "  (1): Linear(in_features=784, out_features=256, bias=True)\n",
              "  (2): ReLU()\n",
              "  (3): Linear(in_features=256, out_features=10, bias=True)\n",
              ")"
            ]
          },
          "metadata": {},
          "execution_count": 15
        }
      ]
    },
    {
      "cell_type": "code",
      "source": [
        "summary(PrimerModelo())"
      ],
      "metadata": {
        "colab": {
          "base_uri": "https://localhost:8080/"
        },
        "id": "m87FBr4SJAYC",
        "outputId": "6574d51d-cd3e-4e2b-aa75-e9edb997ed68"
      },
      "execution_count": null,
      "outputs": [
        {
          "output_type": "execute_result",
          "data": {
            "text/plain": [
              "=================================================================\n",
              "Layer (type:depth-idx)                   Param #\n",
              "=================================================================\n",
              "Sequential                               --\n",
              "├─Flatten: 1-1                           --\n",
              "├─Linear: 1-2                            200,960\n",
              "├─ReLU: 1-3                              --\n",
              "├─Linear: 1-4                            2,570\n",
              "=================================================================\n",
              "Total params: 203,530\n",
              "Trainable params: 203,530\n",
              "Non-trainable params: 0\n",
              "================================================================="
            ]
          },
          "metadata": {},
          "execution_count": 16
        }
      ]
    },
    {
      "cell_type": "markdown",
      "source": [
        "### Segundo Modelo"
      ],
      "metadata": {
        "id": "ZJBIf7NC3n5K"
      }
    },
    {
      "cell_type": "code",
      "source": [
        "def SegundoModelo():\n",
        "  model = nn.Sequential(\n",
        "    nn.Flatten(),\n",
        "    nn.Linear(784, 256),\n",
        "    nn.Sigmoid(),\n",
        "    nn.Linear(256,10),\n",
        "  )\n",
        "  return model\n",
        "SegundoModelo()\n",
        "summary(SegundoModelo())"
      ],
      "metadata": {
        "colab": {
          "base_uri": "https://localhost:8080/"
        },
        "id": "o2VfZVvzLLNJ",
        "outputId": "b22df17a-7b5d-45e3-c302-7e3ca509ef61"
      },
      "execution_count": null,
      "outputs": [
        {
          "output_type": "execute_result",
          "data": {
            "text/plain": [
              "=================================================================\n",
              "Layer (type:depth-idx)                   Param #\n",
              "=================================================================\n",
              "Sequential                               --\n",
              "├─Flatten: 1-1                           --\n",
              "├─Linear: 1-2                            200,960\n",
              "├─Sigmoid: 1-3                           --\n",
              "├─Linear: 1-4                            2,570\n",
              "=================================================================\n",
              "Total params: 203,530\n",
              "Trainable params: 203,530\n",
              "Non-trainable params: 0\n",
              "================================================================="
            ]
          },
          "metadata": {},
          "execution_count": 14
        }
      ]
    },
    {
      "cell_type": "markdown",
      "source": [
        "### Tercer Modelo"
      ],
      "metadata": {
        "id": "9zA4US5n3qgV"
      }
    },
    {
      "cell_type": "code",
      "source": [
        "def TercerModelo():\n",
        "  model = nn.Sequential(\n",
        "    nn.Flatten(),\n",
        "    nn.Linear(784, 256),\n",
        "    nn.ReLU(),\n",
        "    nn.Linear(256,128),\n",
        "    nn.ReLU(),\n",
        "    nn.Linear(128,64),\n",
        "    nn.ReLU(),\n",
        "    nn.Linear(64,10),\n",
        "  )\n",
        "  return model\n",
        "TercerModelo()\n",
        "summary(TercerModelo())"
      ],
      "metadata": {
        "id": "b_hBPb99LLXV",
        "colab": {
          "base_uri": "https://localhost:8080/"
        },
        "outputId": "7d8e3a45-7a8a-4f34-e1df-92919cc1547d"
      },
      "execution_count": null,
      "outputs": [
        {
          "output_type": "execute_result",
          "data": {
            "text/plain": [
              "=================================================================\n",
              "Layer (type:depth-idx)                   Param #\n",
              "=================================================================\n",
              "Sequential                               --\n",
              "├─Flatten: 1-1                           --\n",
              "├─Linear: 1-2                            200,960\n",
              "├─ReLU: 1-3                              --\n",
              "├─Linear: 1-4                            32,896\n",
              "├─ReLU: 1-5                              --\n",
              "├─Linear: 1-6                            8,256\n",
              "├─ReLU: 1-7                              --\n",
              "├─Linear: 1-8                            650\n",
              "=================================================================\n",
              "Total params: 242,762\n",
              "Trainable params: 242,762\n",
              "Non-trainable params: 0\n",
              "================================================================="
            ]
          },
          "metadata": {},
          "execution_count": 27
        }
      ]
    },
    {
      "cell_type": "markdown",
      "source": [
        "## Entrenamiento\n",
        "Vamos a empezar por los primeros dos modelos y ambos con los mismos parámetros."
      ],
      "metadata": {
        "id": "vvuXPmLcsAzJ"
      }
    },
    {
      "cell_type": "code",
      "source": [
        "def train_epoch(dl, model, opt):\n",
        "\n",
        "    # por cada lote\n",
        "    for x, y_true in dl:\n",
        "        \n",
        "        # computamos logits\n",
        "        y_lgts = model(x)\n",
        "        \n",
        "        # computamos la pérdida\n",
        "        loss = F.cross_entropy(y_lgts, y_true)\n",
        "        \n",
        "        # vaciamos los gradientes\n",
        "        opt.zero_grad()\n",
        "        \n",
        "        # retropropagamos\n",
        "        loss.backward()\n",
        "        \n",
        "        # actualizamos parámetros\n",
        "        opt.step()\n",
        "\n",
        "\n",
        "def eval_epoch(dl, model, num_batches=None):\n",
        "\n",
        "    # evitamos que se registren las operaciones \n",
        "    # en la gráfica de cómputo\n",
        "    with torch.no_grad():\n",
        "\n",
        "        # historiales\n",
        "        losses, accs = [], []\n",
        "\n",
        "        # validación de la época con num_batches\n",
        "        # si num_batches==None, se usan todos los lotes\n",
        "        for x, y_true in take(dl, num_batches):\n",
        "\n",
        "            # computamos los logits\n",
        "            y_lgts = model(x)\n",
        "\n",
        "            # computamos los puntajes\n",
        "            y_prob = F.softmax(y_lgts, 1)\n",
        "\n",
        "            # computamos la clases\n",
        "            y_pred = torch.argmax(y_prob, 1)\n",
        "\n",
        "            # computamos la pérdida\n",
        "            loss = F.cross_entropy(y_lgts, y_true)\n",
        "\n",
        "            # computamos la exactitud\n",
        "            acc = (y_true == y_pred).type(torch.float32).mean()\n",
        "\n",
        "            # guardamos históricos\n",
        "            losses.append(loss.item())\n",
        "            accs.append(acc.item())\n",
        "\n",
        "        # promediamos\n",
        "        loss = np.mean(losses) * 100\n",
        "        acc = np.mean(accs) * 100\n",
        "\n",
        "        return loss, acc\n",
        "        \n",
        "        \n",
        "def train(model, trn_dl, tst_dl, lr=0.1, epochs=50,\n",
        "          trn_batches=None, tst_batches=None):\n",
        "\n",
        "    # historiales\n",
        "    loss_hist, acc_hist = [], []\n",
        "    \n",
        "    # optimizador\n",
        "    opt = optim.SGD(model.parameters(), lr=lr)\n",
        "\n",
        "    # ciclo de entrenamiento\n",
        "    for epoch in trange(epochs):\n",
        "\n",
        "        # entrenamos la época\n",
        "        train_epoch(trn_dl, model, opt)\n",
        "\n",
        "        # evaluamos la época en entrenamiento\n",
        "        trn_loss, trn_acc = eval_epoch(trn_dl, model, trn_batches)\n",
        "        # evaluamos la época en prueba\n",
        "        tst_loss, tst_acc = eval_epoch(tst_dl, model, tst_batches)\n",
        "\n",
        "        # guardamos historial\n",
        "        loss_hist.append([trn_loss, tst_loss])\n",
        "        acc_hist.append([trn_acc, tst_acc])\n",
        "\n",
        "        # imprimimos progreso\n",
        "        print(f'E{epoch:02} '\n",
        "              f'loss=[{trn_loss:6.2f},{tst_loss:6.2f}] '\n",
        "              f'acc=[{trn_acc:5.2f},{tst_acc:5.2f}]')\n",
        "\n",
        "    return loss_hist, acc_hist"
      ],
      "metadata": {
        "id": "LJ1_aBKOxbdf"
      },
      "execution_count": null,
      "outputs": []
    },
    {
      "cell_type": "markdown",
      "source": [
        "### Pruebas en los modelos\n",
        "\n",
        "\n",
        "\n",
        "\n",
        "\n",
        "Se utilizó unos parámetros de lr=1e-3, epochs=20 para las siguientes pruebas."
      ],
      "metadata": {
        "id": "S58failM11WG"
      }
    },
    {
      "cell_type": "code",
      "source": [
        "loss_hist, acc_hist = train(PrimerModelo(), train_dl, test_dl)"
      ],
      "metadata": {
        "colab": {
          "base_uri": "https://localhost:8080/",
          "height": 410,
          "referenced_widgets": [
            "7bf42efc24f948cd9dd6ac386f3102df",
            "f2ffe6d56ed3434f972d7b86dc727872",
            "85c974741c0d49508b6c1c357305a401",
            "bceeea692b4744d0a6582e1021980dbb",
            "f9da811d3562481f90da7b56dfd57d02",
            "64a010dc2d7344cfa817a690461de50b",
            "1d62f012d6014b9e9a3242ac4354f0a8",
            "a7073e9d18904507ae8ef691caf0c9b7",
            "0a3c29c52f7b430c8b73dfadc71e0f94",
            "844aa59b42e24b36b34268c5853448a0",
            "25da8442fecd499295db8d870dc804ad"
          ]
        },
        "id": "8kDrNLxzxcl4",
        "outputId": "851fe89e-6dd3-43b6-8f86-8fac5758419c"
      },
      "execution_count": null,
      "outputs": [
        {
          "output_type": "display_data",
          "data": {
            "text/plain": [
              "  0%|          | 0/20 [00:00<?, ?it/s]"
            ],
            "application/vnd.jupyter.widget-view+json": {
              "version_major": 2,
              "version_minor": 0,
              "model_id": "7bf42efc24f948cd9dd6ac386f3102df"
            }
          },
          "metadata": {}
        },
        {
          "output_type": "stream",
          "name": "stdout",
          "text": [
            "E00 loss=[142.93,143.57] acc=[65.76,64.94]\n",
            "E01 loss=[103.25,104.39] acc=[67.39,66.28]\n",
            "E02 loss=[ 87.91, 89.32] acc=[69.50,68.33]\n",
            "E03 loss=[ 79.73, 81.34] acc=[72.25,70.92]\n",
            "E04 loss=[ 74.30, 75.98] acc=[74.54,73.22]\n",
            "E05 loss=[ 70.19, 71.91] acc=[76.11,74.87]\n",
            "E06 loss=[ 67.24, 69.15] acc=[77.22,75.87]\n",
            "E07 loss=[ 64.45, 66.46] acc=[78.30,77.01]\n",
            "E08 loss=[ 62.17, 64.18] acc=[79.28,78.09]\n",
            "E09 loss=[ 60.25, 62.37] acc=[79.99,78.68]\n",
            "E10 loss=[ 58.59, 60.83] acc=[80.48,79.09]\n",
            "E11 loss=[ 57.21, 59.47] acc=[80.97,79.53]\n",
            "E12 loss=[ 55.97, 58.28] acc=[81.31,80.03]\n",
            "E13 loss=[ 54.93, 57.29] acc=[81.61,80.39]\n",
            "E14 loss=[ 53.97, 56.49] acc=[81.95,80.74]\n",
            "E15 loss=[ 53.09, 55.57] acc=[82.22,81.09]\n",
            "E16 loss=[ 52.36, 54.92] acc=[82.46,81.25]\n",
            "E17 loss=[ 51.65, 54.36] acc=[82.60,81.40]\n",
            "E18 loss=[ 51.00, 53.69] acc=[82.87,81.55]\n",
            "E19 loss=[ 50.44, 53.12] acc=[83.00,81.72]\n"
          ]
        }
      ]
    },
    {
      "cell_type": "code",
      "source": [
        "loss_hist2, acc_hist2 = train(SegundoModelo(), train_dl, test_dl)"
      ],
      "metadata": {
        "colab": {
          "base_uri": "https://localhost:8080/",
          "height": 396,
          "referenced_widgets": [
            "a83f59e4e0e540ccb04feb31504ab18c",
            "25f9245f73ea4928a5e9b454581f5576",
            "d2bafa43c66e4d208b36337a2eee7df4",
            "e384d0c369bb45ec8e2893c09d621648",
            "0689ebda76364a929bb8f9e526148065",
            "417f68d4be074f0a96ca1972f09a0c1a",
            "1dc59b6f47744bf08b6864113ddd3e04",
            "de90102a55724c7286e1415200d6a418",
            "d8e4339cfb99483d85df4d1a305f3554",
            "6a52381c50bc4e0e92843dfd890b00cd",
            "30955d7d41d14c7f9565502cc63ee6bc"
          ]
        },
        "id": "ZbGdMMn30PeE",
        "outputId": "fc0aaa45-17bb-468f-927a-74ceeb4bc5ec"
      },
      "execution_count": null,
      "outputs": [
        {
          "output_type": "display_data",
          "data": {
            "text/plain": [
              "  0%|          | 0/20 [00:00<?, ?it/s]"
            ],
            "application/vnd.jupyter.widget-view+json": {
              "version_major": 2,
              "version_minor": 0,
              "model_id": "a83f59e4e0e540ccb04feb31504ab18c"
            }
          },
          "metadata": {}
        },
        {
          "output_type": "stream",
          "name": "stdout",
          "text": [
            "E00 loss=[217.00,217.06] acc=[58.51,57.61]\n",
            "E01 loss=[200.12,200.23] acc=[59.42,59.19]\n",
            "E02 loss=[179.97,180.16] acc=[59.24,59.07]\n",
            "E03 loss=[160.59,160.90] acc=[65.14,64.84]\n",
            "E04 loss=[144.82,145.24] acc=[65.45,65.04]\n",
            "E05 loss=[132.48,132.96] acc=[68.25,67.74]\n",
            "E06 loss=[122.78,123.31] acc=[69.63,69.12]\n",
            "E07 loss=[114.94,115.57] acc=[69.85,68.96]\n",
            "E08 loss=[108.48,109.19] acc=[70.69,69.84]\n",
            "E09 loss=[103.07,103.85] acc=[71.16,70.53]\n",
            "E10 loss=[ 98.46, 99.27] acc=[71.91,71.09]\n",
            "E11 loss=[ 94.52, 95.37] acc=[72.33,71.51]\n",
            "E12 loss=[ 91.08, 91.98] acc=[72.50,71.57]\n",
            "E13 loss=[ 88.12, 89.09] acc=[72.95,72.19]\n",
            "E14 loss=[ 85.52, 86.58] acc=[73.26,72.55]\n",
            "E15 loss=[ 83.22, 84.28] acc=[73.43,72.58]\n",
            "E16 loss=[ 81.19, 82.21] acc=[73.73,73.11]\n",
            "E17 loss=[ 79.39, 80.55] acc=[73.83,72.98]\n",
            "E18 loss=[ 77.77, 78.94] acc=[74.16,73.35]\n",
            "E19 loss=[ 76.34, 77.56] acc=[74.43,73.80]\n"
          ]
        }
      ]
    },
    {
      "cell_type": "code",
      "source": [
        "trn_loss, tst_loss = zip(*loss_hist)\n",
        "plt.plot(trn_loss, 'tab:orange', label='trn1 loss')\n",
        "plt.plot(tst_loss, 'tab:red', label='tst1 loss')\n",
        "trn_loss2, tst_loss2 = zip(*loss_hist2)\n",
        "plt.plot(trn_loss2, 'tab:blue', label='trn2 loss')\n",
        "plt.plot(tst_loss2, 'tab:green', label='tst2 loss')\n",
        "plt.legend(loc='upper right')\n",
        "plt.xlabel('época')\n",
        "plt.ylabel('pérdida')\n",
        "plt.show()"
      ],
      "metadata": {
        "colab": {
          "base_uri": "https://localhost:8080/",
          "height": 283
        },
        "id": "TtOCvAsM4htw",
        "outputId": "ab9f1be2-2377-48dc-ec14-72eaf7a14499"
      },
      "execution_count": null,
      "outputs": [
        {
          "output_type": "display_data",
          "data": {
            "text/plain": [
              "<Figure size 432x288 with 1 Axes>"
            ],
            "image/png": "[encoded data removed]"
          },
          "metadata": {
            "needs_background": "light"
          }
        }
      ]
    },
    {
      "cell_type": "code",
      "source": [
        "trn_acc, tst_acc = zip(*acc_hist)\n",
        "plt.plot(trn_acc, 'tab:orange', label='trn1 acc')\n",
        "plt.plot(tst_acc, 'tab:red', label='tst1 acc')\n",
        "trn_loss2, tst_loss2 = zip(*acc_hist2)\n",
        "plt.plot(trn_loss2, 'tab:blue', label='trn2 acc')\n",
        "plt.plot(tst_loss2, 'tab:green', label='tst2 acc')\n",
        "plt.legend(loc='lower right')\n",
        "plt.xlabel('época')\n",
        "plt.ylabel('exactitud')\n",
        "plt.show()"
      ],
      "metadata": {
        "colab": {
          "base_uri": "https://localhost:8080/",
          "height": 280
        },
        "id": "jNx4FJs258xe",
        "outputId": "76ebc869-621d-4061-f831-87ad4e2dab00"
      },
      "execution_count": null,
      "outputs": [
        {
          "output_type": "display_data",
          "data": {
            "text/plain": [
              "<Figure size 432x288 with 1 Axes>"
            ],
            "image/png": "[encoded data removed]"
          },
          "metadata": {
            "needs_background": "light"
          }
        }
      ]
    },
    {
      "cell_type": "markdown",
      "source": [
        "Ahora usaremos el tercer modelo basado en el primer modelo pero con más capas ocultas."
      ],
      "metadata": {
        "id": "-iNJsGCJS2EH"
      }
    },
    {
      "cell_type": "code",
      "source": [
        "loss_hist3, acc_hist3 = train(TercerModelo(), train_dl, test_dl)"
      ],
      "metadata": {
        "colab": {
          "base_uri": "https://localhost:8080/",
          "height": 410,
          "referenced_widgets": [
            "5104096f42fb4e5ea7a88b4926ec1f2e",
            "27d3925885954384af672d733938183c",
            "b52e40b041df48ac86adc99d90e81544",
            "37a709bdd1a44421b1e801aae4a48ea6",
            "344da82b98bb4ea79e931aa4aae54e4b",
            "00aa7eef8f9d4fcbafccc4462dd5fced",
            "0caca0e9b3af48febf2ca77d951e242c",
            "3158d8b283e342b686325b97e5fcd7da",
            "d5c5bc9a7220455fafb967c8e80ad2e5",
            "eb4aab7329ff4207900bac5da51874ab",
            "a92e0d73265c4a019a0a06b91982041a"
          ]
        },
        "id": "c3tby-E_Pmb-",
        "outputId": "3cbae619-ed40-4676-efca-b19579c9d3ee"
      },
      "execution_count": null,
      "outputs": [
        {
          "output_type": "display_data",
          "data": {
            "text/plain": [
              "  0%|          | 0/20 [00:00<?, ?it/s]"
            ],
            "application/vnd.jupyter.widget-view+json": {
              "version_major": 2,
              "version_minor": 0,
              "model_id": "5104096f42fb4e5ea7a88b4926ec1f2e"
            }
          },
          "metadata": {}
        },
        {
          "output_type": "stream",
          "name": "stdout",
          "text": [
            "E00 loss=[225.10,225.16] acc=[19.45,19.39]\n",
            "E01 loss=[210.25,210.37] acc=[21.01,20.75]\n",
            "E02 loss=[163.23,163.58] acc=[38.15,37.84]\n",
            "E03 loss=[118.43,119.29] acc=[59.70,59.28]\n",
            "E04 loss=[ 99.17,100.34] acc=[64.72,63.94]\n",
            "E05 loss=[ 88.82, 90.30] acc=[66.54,65.65]\n",
            "E06 loss=[ 82.14, 83.74] acc=[70.60,69.59]\n",
            "E07 loss=[ 77.12, 79.01] acc=[71.95,71.09]\n",
            "E08 loss=[ 73.40, 75.25] acc=[73.36,72.72]\n",
            "E09 loss=[ 69.92, 71.90] acc=[74.53,74.09]\n",
            "E10 loss=[ 67.62, 69.80] acc=[75.56,74.65]\n",
            "E11 loss=[ 65.32, 67.66] acc=[76.86,75.95]\n",
            "E12 loss=[ 62.92, 65.21] acc=[77.31,76.51]\n",
            "E13 loss=[ 61.25, 63.52] acc=[78.11,77.18]\n",
            "E14 loss=[ 59.92, 62.37] acc=[78.85,77.81]\n",
            "E15 loss=[ 58.37, 60.80] acc=[79.35,78.29]\n",
            "E16 loss=[ 57.41, 59.94] acc=[79.98,78.95]\n",
            "E17 loss=[ 56.61, 59.29] acc=[79.84,78.72]\n",
            "E18 loss=[ 55.40, 58.20] acc=[80.79,79.75]\n",
            "E19 loss=[ 54.51, 57.45] acc=[80.91,79.67]\n"
          ]
        }
      ]
    },
    {
      "cell_type": "code",
      "source": [
        "trn_loss, tst_loss = zip(*loss_hist)\n",
        "plt.plot(trn_loss, 'tab:orange', label='trn1 loss')\n",
        "plt.plot(tst_loss, 'tab:red', label='tst1 loss')\n",
        "trn_loss2, tst_loss2 = zip(*loss_hist3)\n",
        "plt.plot(trn_loss2, 'tab:blue', label='trn3 loss')\n",
        "plt.plot(tst_loss2, 'tab:green', label='tst3 loss')\n",
        "plt.legend(loc='upper right')\n",
        "plt.xlabel('época')\n",
        "plt.ylabel('pérdida')\n",
        "plt.show()"
      ],
      "metadata": {
        "colab": {
          "base_uri": "https://localhost:8080/",
          "height": 280
        },
        "id": "G8X41qtKRn7z",
        "outputId": "d5c74a74-e499-4663-9861-3b85ed65b136"
      },
      "execution_count": null,
      "outputs": [
        {
          "output_type": "display_data",
          "data": {
            "text/plain": [
              "<Figure size 432x288 with 1 Axes>"
            ],
            "image/png": "[encoded data removed]"
          },
          "metadata": {
            "needs_background": "light"
          }
        }
      ]
    },
    {
      "cell_type": "code",
      "source": [
        "trn_acc, tst_acc = zip(*acc_hist)\n",
        "plt.plot(trn_acc, 'tab:orange', label='trn1 acc')\n",
        "plt.plot(tst_acc, 'tab:red', label='tst1 acc')\n",
        "trn_loss2, tst_loss2 = zip(*acc_hist3)\n",
        "plt.plot(trn_loss2, 'tab:blue', label='trn3 acc')\n",
        "plt.plot(tst_loss2, 'tab:green', label='tst3 acc')\n",
        "plt.legend(loc='lower right')\n",
        "plt.xlabel('época')\n",
        "plt.ylabel('exactitud')\n",
        "plt.show()"
      ],
      "metadata": {
        "colab": {
          "base_uri": "https://localhost:8080/",
          "height": 280
        },
        "id": "6vAPmpUCTTb_",
        "outputId": "883d7c94-2944-4144-a063-ada5b6e5e091"
      },
      "execution_count": null,
      "outputs": [
        {
          "output_type": "display_data",
          "data": {
            "text/plain": [
              "<Figure size 432x288 with 1 Axes>"
            ],
            "image/png": "[encoded data removed]"
          },
          "metadata": {
            "needs_background": "light"
          }
        }
      ]
    },
    {
      "cell_type": "markdown",
      "source": [
        "En base a estos resultados y a las gráficas presentadas creo que es importante seguir con el tercer modelo pero cambiando los hiperparámetros ya que al final no fue tan distinto el resultado al obtenido con el primer modelo empezando desde mucho más atrás por lo que esto puede indicar que puede mejorar aún mucho más. Esto es sólo una hipótesis mía por lo que se va a cambiar el valor de $\\alpha = 0.1$."
      ],
      "metadata": {
        "id": "Uq2lfSNqTbeN"
      }
    },
    {
      "cell_type": "code",
      "source": [
        "loss_hist3, acc_hist3 = train(TercerModelo(), train_dl, test_dl)"
      ],
      "metadata": {
        "colab": {
          "base_uri": "https://localhost:8080/",
          "height": 410,
          "referenced_widgets": [
            "e3ceeab2e6b84a308932114a52d3a4d0",
            "d7a211e5b9a14ae29a4b9d38c9162cb7",
            "5a44ac903c6f44729f6b036f0884bc4d",
            "8caa677f8e6f4463b624164373133a42",
            "eeb5b5c722d6432b9b8f3d455078b3ab",
            "4a467ff2628543a9a79b61d20743bd89",
            "cb3663c86b734d49b16c7cd2ae538fc2",
            "5c6f343b8d7d43f38bd7d479de979930",
            "e989d0116bae43d3ac33381000086a3f",
            "aea68b662b004f55bf5b3a29b0704203",
            "900fbac3129c45d1bc18c8975c0cbf23"
          ]
        },
        "id": "niH4kB7WU6i0",
        "outputId": "2b87dc05-2bdd-422e-a183-68282953a958"
      },
      "execution_count": null,
      "outputs": [
        {
          "output_type": "display_data",
          "data": {
            "text/plain": [
              "  0%|          | 0/20 [00:00<?, ?it/s]"
            ],
            "application/vnd.jupyter.widget-view+json": {
              "version_major": 2,
              "version_minor": 0,
              "model_id": "e3ceeab2e6b84a308932114a52d3a4d0"
            }
          },
          "metadata": {}
        },
        {
          "output_type": "stream",
          "name": "stdout",
          "text": [
            "E00 loss=[ 47.16, 50.61] acc=[82.45,81.73]\n",
            "E01 loss=[ 36.87, 41.50] acc=[86.37,84.71]\n",
            "E02 loss=[ 37.07, 42.56] acc=[86.35,84.81]\n",
            "E03 loss=[ 32.22, 38.13] acc=[87.73,85.67]\n",
            "E04 loss=[ 29.18, 35.59] acc=[89.23,87.24]\n",
            "E05 loss=[ 27.10, 34.96] acc=[89.78,87.51]\n",
            "E06 loss=[ 26.42, 34.94] acc=[90.01,87.48]\n",
            "E07 loss=[ 25.86, 35.01] acc=[90.08,87.16]\n",
            "E08 loss=[ 24.62, 34.18] acc=[90.86,88.05]\n",
            "E09 loss=[ 22.74, 33.02] acc=[91.52,88.22]\n",
            "E10 loss=[ 25.06, 34.65] acc=[90.93,87.61]\n",
            "E11 loss=[ 22.25, 33.21] acc=[91.61,88.31]\n",
            "E12 loss=[ 23.71, 34.59] acc=[90.75,87.46]\n",
            "E13 loss=[ 20.96, 33.21] acc=[92.22,88.45]\n",
            "E14 loss=[ 20.17, 33.25] acc=[92.21,88.33]\n",
            "E15 loss=[ 20.07, 33.04] acc=[92.33,88.38]\n",
            "E16 loss=[ 23.08, 39.49] acc=[91.37,87.62]\n",
            "E17 loss=[ 21.19, 37.62] acc=[91.73,87.46]\n",
            "E18 loss=[ 17.80, 33.12] acc=[93.29,89.05]\n",
            "E19 loss=[ 17.18, 32.84] acc=[93.50,89.00]\n"
          ]
        }
      ]
    },
    {
      "cell_type": "code",
      "source": [
        "trn_loss, tst_loss = zip(*loss_hist)\n",
        "plt.plot(trn_loss, 'tab:orange', label='trn1 loss')\n",
        "plt.plot(tst_loss, 'tab:red', label='tst1 loss')\n",
        "trn_loss2, tst_loss2 = zip(*loss_hist3)\n",
        "plt.plot(trn_loss2, 'tab:blue', label='trn3 loss')\n",
        "plt.plot(tst_loss2, 'tab:green', label='tst3 loss')\n",
        "plt.legend(loc='upper right')\n",
        "plt.xlabel('época')\n",
        "plt.ylabel('pérdida')\n",
        "plt.show()"
      ],
      "metadata": {
        "colab": {
          "base_uri": "https://localhost:8080/",
          "height": 280
        },
        "id": "UAwrxQ_hWgKL",
        "outputId": "cfd1c849-9063-428d-c4f6-3d53b06710c2"
      },
      "execution_count": null,
      "outputs": [
        {
          "output_type": "display_data",
          "data": {
            "text/plain": [
              "<Figure size 432x288 with 1 Axes>"
            ],
            "image/png": "[encoded data removed]"
          },
          "metadata": {
            "needs_background": "light"
          }
        }
      ]
    },
    {
      "cell_type": "code",
      "source": [
        "trn_acc, tst_acc = zip(*acc_hist)\n",
        "plt.plot(trn_acc, 'tab:orange', label='trn1 acc')\n",
        "plt.plot(tst_acc, 'tab:red', label='tst1 acc')\n",
        "trn_loss2, tst_loss2 = zip(*acc_hist3)\n",
        "plt.plot(trn_loss2, 'tab:blue', label='trn3 acc')\n",
        "plt.plot(tst_loss2, 'tab:green', label='tst3 acc')\n",
        "plt.legend(loc='lower right')\n",
        "plt.xlabel('época')\n",
        "plt.ylabel('exactitud')\n",
        "plt.show()"
      ],
      "metadata": {
        "colab": {
          "base_uri": "https://localhost:8080/",
          "height": 280
        },
        "id": "QyLAYyebWkv7",
        "outputId": "769be681-4000-40c5-d568-28dffa94cb15"
      },
      "execution_count": null,
      "outputs": [
        {
          "output_type": "display_data",
          "data": {
            "text/plain": [
              "<Figure size 432x288 with 1 Axes>"
            ],
            "image/png": "[encoded data removed]"
          },
          "metadata": {
            "needs_background": "light"
          }
        }
      ]
    },
    {
      "cell_type": "markdown",
      "source": [
        "Se puede observar como el cambio si funcionó demasiado, veamos si para el primer modelo tiene resultados similares."
      ],
      "metadata": {
        "id": "-AO6G4CrWpbU"
      }
    },
    {
      "cell_type": "code",
      "source": [
        "loss_hist, acc_hist = train(PrimerModelo(), train_dl, test_dl)"
      ],
      "metadata": {
        "colab": {
          "base_uri": "https://localhost:8080/",
          "height": 410,
          "referenced_widgets": [
            "093cecf833f3404b8729b9dfb11df6ca",
            "bedf7da1607b40b592248a231c3c3af6",
            "b9b08bb662ca48f0b2fd8a0c6e0c7548",
            "c9ee3c3435fd42d9bca9518b8ee58016",
            "decf9e57670e4545bba33e5094687a14",
            "bea285d1c8f1455880f9e46c5e5098b3",
            "b035d4002fc343e38a79a46cedc30b6f",
            "52fb2a6ec09c4eb596d5c65c32100982",
            "304d38436d404b7daf78222879a74405",
            "5d0a45ca1d5a413688dc668da33c2868",
            "e366a94b20f04c5588439d525d837b7e"
          ]
        },
        "id": "-Gxl0PfEXJZa",
        "outputId": "a9e68b8c-af6e-4588-d402-49c0eab4dc0a"
      },
      "execution_count": null,
      "outputs": [
        {
          "output_type": "display_data",
          "data": {
            "text/plain": [
              "  0%|          | 0/20 [00:00<?, ?it/s]"
            ],
            "application/vnd.jupyter.widget-view+json": {
              "version_major": 2,
              "version_minor": 0,
              "model_id": "093cecf833f3404b8729b9dfb11df6ca"
            }
          },
          "metadata": {}
        },
        {
          "output_type": "stream",
          "name": "stdout",
          "text": [
            "E00 loss=[ 42.91, 47.19] acc=[84.17,82.36]\n",
            "E01 loss=[ 37.76, 42.27] acc=[86.08,84.69]\n",
            "E02 loss=[ 33.95, 39.39] acc=[87.64,85.95]\n",
            "E03 loss=[ 32.11, 38.40] acc=[88.14,86.07]\n",
            "E04 loss=[ 30.00, 36.64] acc=[88.81,86.94]\n",
            "E05 loss=[ 30.35, 37.43] acc=[88.76,86.55]\n",
            "E06 loss=[ 27.46, 35.22] acc=[89.76,87.28]\n",
            "E07 loss=[ 26.10, 34.41] acc=[90.60,87.87]\n",
            "E08 loss=[ 25.92, 34.54] acc=[90.55,87.90]\n",
            "E09 loss=[ 24.01, 33.10] acc=[91.29,87.78]\n",
            "E10 loss=[ 22.95, 32.38] acc=[91.68,88.34]\n",
            "E11 loss=[ 23.07, 33.53] acc=[91.47,88.41]\n",
            "E12 loss=[ 22.32, 33.07] acc=[91.91,88.23]\n",
            "E13 loss=[ 21.82, 33.44] acc=[91.91,88.07]\n",
            "E14 loss=[ 21.96, 33.83] acc=[91.81,88.38]\n",
            "E15 loss=[ 19.67, 32.04] acc=[92.78,88.77]\n",
            "E16 loss=[ 20.45, 33.26] acc=[92.36,88.55]\n",
            "E17 loss=[ 20.64, 33.85] acc=[92.31,88.43]\n",
            "E18 loss=[ 21.98, 35.75] acc=[91.75,87.29]\n",
            "E19 loss=[ 19.47, 33.90] acc=[92.67,88.76]\n"
          ]
        }
      ]
    },
    {
      "cell_type": "code",
      "source": [
        "trn_loss, tst_loss = zip(*loss_hist)\n",
        "plt.plot(trn_loss, 'tab:orange', label='trn1 loss')\n",
        "plt.plot(tst_loss, 'tab:red', label='tst1 loss')\n",
        "trn_loss2, tst_loss2 = zip(*loss_hist3)\n",
        "plt.plot(trn_loss2, 'tab:blue', label='trn3 loss')\n",
        "plt.plot(tst_loss2, 'tab:green', label='tst3 loss')\n",
        "plt.legend(loc='upper right')\n",
        "plt.xlabel('época')\n",
        "plt.ylabel('pérdida')\n",
        "plt.show()"
      ],
      "metadata": {
        "colab": {
          "base_uri": "https://localhost:8080/",
          "height": 280
        },
        "id": "3iB24svDYu3j",
        "outputId": "a4fff639-1587-4d67-8cb5-e32ec349a6eb"
      },
      "execution_count": null,
      "outputs": [
        {
          "output_type": "display_data",
          "data": {
            "text/plain": [
              "<Figure size 432x288 with 1 Axes>"
            ],
            "image/png": "[encoded data removed]"
          },
          "metadata": {
            "needs_background": "light"
          }
        }
      ]
    },
    {
      "cell_type": "code",
      "source": [],
      "metadata": {
        "id": "nKZAyk2bp_QM"
      },
      "execution_count": null,
      "outputs": []
    },
    {
      "cell_type": "code",
      "source": [
        "trn_acc, tst_acc = zip(*acc_hist)\n",
        "plt.plot(trn_acc, 'tab:orange', label='trn1 acc')\n",
        "plt.plot(tst_acc, 'tab:red', label='tst1 acc')\n",
        "trn_loss2, tst_loss2 = zip(*acc_hist3)\n",
        "plt.plot(trn_loss2, 'tab:blue', label='trn3 acc')\n",
        "plt.plot(tst_loss2, 'tab:green', label='tst3 acc')\n",
        "plt.legend(loc='lower right')\n",
        "plt.xlabel('época')\n",
        "plt.ylabel('exactitud')\n",
        "plt.show()"
      ],
      "metadata": {
        "colab": {
          "base_uri": "https://localhost:8080/",
          "height": 282
        },
        "id": "T_lQlbZVY6yr",
        "outputId": "3a5919d7-090c-41c9-b30b-15b3754f143e"
      },
      "execution_count": null,
      "outputs": [
        {
          "output_type": "display_data",
          "data": {
            "text/plain": [
              "<Figure size 432x288 with 1 Axes>"
            ],
            "image/png": "[encoded data removed]"
          },
          "metadata": {
            "needs_background": "light"
          }
        }
      ]
    },
    {
      "cell_type": "markdown",
      "source": [
        "Ahora vamos a cambiar las épocas a un valor de 50."
      ],
      "metadata": {
        "id": "Q1Bs876aZfvG"
      }
    },
    {
      "cell_type": "code",
      "source": [
        "loss_hist, acc_hist = train(PrimerModelo(), train_dl, test_dl)"
      ],
      "metadata": {
        "colab": {
          "base_uri": "https://localhost:8080/",
          "height": 952,
          "referenced_widgets": [
            "a6a3454c2426484c800c387ab85feba0",
            "971eeeebd91c4f9da2a10ae636ed4b09",
            "66dca9cf7d8f4cc2856766444230c014",
            "85b442c6ba5344eb98e479135cc40253",
            "78a40f3a65ca44f9affe1daf3c48b987",
            "ccdf7c000bcf4aee8c45ba5de25d15e2",
            "77b57b5a334444a2a51f6fdc2149666a",
            "e7d5cc4feadb4628bb614ad2763bddd3",
            "1d1c21b4fed544c8aff978a1980163a5",
            "6b4c4d93454a4b03bb94fc01cc151972",
            "d08f59e7213643bc8a3e702176222192"
          ]
        },
        "id": "mSDxrWqiZ0ds",
        "outputId": "e7eed948-9f55-4afe-9ce4-5546536bd30b"
      },
      "execution_count": null,
      "outputs": [
        {
          "output_type": "display_data",
          "data": {
            "text/plain": [
              "  0%|          | 0/50 [00:00<?, ?it/s]"
            ],
            "application/vnd.jupyter.widget-view+json": {
              "version_major": 2,
              "version_minor": 0,
              "model_id": "a6a3454c2426484c800c387ab85feba0"
            }
          },
          "metadata": {}
        },
        {
          "output_type": "stream",
          "name": "stdout",
          "text": [
            "E00 loss=[ 42.18, 45.76] acc=[84.90,83.31]\n",
            "E01 loss=[ 38.54, 43.34] acc=[86.02,84.17]\n",
            "E02 loss=[ 34.56, 40.25] acc=[87.33,85.51]\n",
            "E03 loss=[ 31.01, 36.38] acc=[88.98,87.10]\n",
            "E04 loss=[ 29.66, 35.92] acc=[89.19,86.95]\n",
            "E05 loss=[ 30.51, 37.70] acc=[88.35,86.28]\n",
            "E06 loss=[ 27.35, 34.99] acc=[89.80,87.62]\n",
            "E07 loss=[ 28.53, 36.99] acc=[89.10,86.61]\n",
            "E08 loss=[ 25.58, 34.39] acc=[90.56,87.79]\n",
            "E09 loss=[ 26.76, 36.82] acc=[89.96,87.07]\n",
            "E10 loss=[ 23.60, 33.66] acc=[91.36,88.07]\n",
            "E11 loss=[ 23.72, 33.89] acc=[91.16,88.14]\n",
            "E12 loss=[ 24.07, 35.01] acc=[90.90,87.58]\n",
            "E13 loss=[ 21.42, 32.70] acc=[92.11,88.65]\n",
            "E14 loss=[ 23.39, 35.57] acc=[91.14,87.12]\n",
            "E15 loss=[ 21.51, 33.92] acc=[92.01,88.07]\n",
            "E16 loss=[ 20.18, 33.53] acc=[92.29,88.32]\n",
            "E17 loss=[ 22.53, 35.20] acc=[91.38,87.30]\n",
            "E18 loss=[ 20.74, 33.75] acc=[92.28,87.86]\n",
            "E19 loss=[ 19.22, 33.80] acc=[92.74,88.10]\n",
            "E20 loss=[ 19.46, 34.27] acc=[92.53,88.11]\n",
            "E21 loss=[ 17.29, 32.59] acc=[93.57,88.86]\n",
            "E22 loss=[ 17.47, 33.66] acc=[93.52,88.74]\n",
            "E23 loss=[ 17.43, 33.88] acc=[93.52,89.05]\n",
            "E24 loss=[ 18.16, 34.66] acc=[93.19,88.57]\n",
            "E25 loss=[ 16.34, 34.50] acc=[93.88,88.78]\n",
            "E26 loss=[ 17.81, 36.54] acc=[93.25,88.33]\n",
            "E27 loss=[ 19.84, 39.12] acc=[92.70,88.17]\n",
            "E28 loss=[ 14.03, 33.01] acc=[94.83,89.26]\n",
            "E29 loss=[ 14.86, 34.60] acc=[94.41,88.62]\n",
            "E30 loss=[ 16.80, 36.93] acc=[93.43,88.22]\n",
            "E31 loss=[ 18.36, 38.91] acc=[93.03,87.88]\n",
            "E32 loss=[ 15.14, 36.73] acc=[94.21,88.09]\n",
            "E33 loss=[ 15.05, 37.37] acc=[94.49,88.26]\n",
            "E34 loss=[ 13.37, 35.27] acc=[95.05,88.76]\n",
            "E35 loss=[ 12.97, 35.37] acc=[95.21,89.11]\n",
            "E36 loss=[ 15.00, 38.27] acc=[94.38,88.68]\n",
            "E37 loss=[ 11.69, 34.97] acc=[95.77,89.32]\n",
            "E38 loss=[ 12.61, 36.45] acc=[95.24,88.91]\n",
            "E39 loss=[ 11.73, 36.46] acc=[95.58,89.24]\n",
            "E40 loss=[ 15.43, 41.78] acc=[93.95,87.84]\n",
            "E41 loss=[ 13.78, 38.32] acc=[94.78,88.36]\n",
            "E42 loss=[ 11.59, 37.47] acc=[95.52,89.06]\n",
            "E43 loss=[ 11.40, 37.81] acc=[95.76,88.80]\n",
            "E44 loss=[ 10.21, 37.48] acc=[96.28,89.13]\n",
            "E45 loss=[ 10.76, 38.11] acc=[96.02,89.10]\n",
            "E46 loss=[ 11.33, 38.86] acc=[95.80,88.75]\n",
            "E47 loss=[ 10.46, 37.57] acc=[96.18,88.82]\n",
            "E48 loss=[  9.90, 38.14] acc=[96.34,89.12]\n",
            "E49 loss=[ 10.55, 39.98] acc=[96.08,88.71]\n"
          ]
        }
      ]
    },
    {
      "cell_type": "code",
      "source": [
        "loss_hist3, acc_hist3 = train(TercerModelo(), train_dl, test_dl)"
      ],
      "metadata": {
        "colab": {
          "base_uri": "https://localhost:8080/",
          "height": 952,
          "referenced_widgets": [
            "bfa141c82af54512b7e808600ea1d06b",
            "3373b413efeb4e41b0b6406db5023337",
            "39db72a83f6a45bb978c10b77b06e222",
            "de2ec79d411846979136263be70aae72",
            "3729b68a4159467a914c1b8812cbcbf2",
            "d20f4ff950534052a7f7e72808022f9f",
            "a30ac0245d7947dfb0ef134bff7831fc",
            "23290a3c9c414aaca3a3a554733962e2",
            "7e747f65675f40d79f82044497a65d44",
            "67adac00685d428294301a310d4b9785",
            "5f112358d4d24624bb2336953a55bbd5"
          ]
        },
        "id": "TKdc3umVZ05H",
        "outputId": "3447e332-5229-441a-f924-87e7d9059e28"
      },
      "execution_count": null,
      "outputs": [
        {
          "output_type": "display_data",
          "data": {
            "text/plain": [
              "  0%|          | 0/50 [00:00<?, ?it/s]"
            ],
            "application/vnd.jupyter.widget-view+json": {
              "version_major": 2,
              "version_minor": 0,
              "model_id": "bfa141c82af54512b7e808600ea1d06b"
            }
          },
          "metadata": {}
        },
        {
          "output_type": "stream",
          "name": "stdout",
          "text": [
            "E00 loss=[ 46.30, 49.73] acc=[82.86,81.26]\n",
            "E01 loss=[ 39.08, 44.07] acc=[84.98,83.54]\n",
            "E02 loss=[ 33.47, 39.23] acc=[87.45,85.84]\n",
            "E03 loss=[ 30.70, 37.09] acc=[88.34,86.42]\n",
            "E04 loss=[ 27.66, 35.47] acc=[89.73,87.43]\n",
            "E05 loss=[ 34.73, 43.21] acc=[87.32,85.50]\n",
            "E06 loss=[ 26.30, 33.91] acc=[89.99,87.48]\n",
            "E07 loss=[ 26.48, 35.88] acc=[89.92,87.04]\n",
            "E08 loss=[ 25.22, 34.38] acc=[90.30,87.27]\n",
            "E09 loss=[ 25.64, 35.59] acc=[90.30,87.19]\n",
            "E10 loss=[ 23.98, 34.57] acc=[90.86,88.08]\n",
            "E11 loss=[ 23.92, 34.49] acc=[90.79,87.71]\n",
            "E12 loss=[ 21.04, 33.50] acc=[91.91,88.58]\n",
            "E13 loss=[ 27.53, 40.17] acc=[89.33,86.27]\n",
            "E14 loss=[ 20.71, 34.55] acc=[92.11,88.38]\n",
            "E15 loss=[ 19.44, 33.46] acc=[92.67,88.77]\n",
            "E16 loss=[ 18.56, 32.76] acc=[92.84,88.93]\n",
            "E17 loss=[ 20.50, 35.54] acc=[92.21,88.09]\n",
            "E18 loss=[ 17.95, 33.70] acc=[93.08,88.98]\n",
            "E19 loss=[ 17.27, 34.84] acc=[93.47,88.94]\n",
            "E20 loss=[ 17.56, 33.49] acc=[93.22,88.85]\n",
            "E21 loss=[ 17.54, 35.61] acc=[93.14,88.68]\n",
            "E22 loss=[ 18.67, 37.39] acc=[93.01,88.37]\n",
            "E23 loss=[ 17.11, 33.83] acc=[93.47,89.00]\n",
            "E24 loss=[ 15.62, 35.50] acc=[93.94,89.10]\n",
            "E25 loss=[ 16.07, 35.89] acc=[93.67,88.63]\n",
            "E26 loss=[ 14.23, 35.09] acc=[94.51,89.15]\n",
            "E27 loss=[ 13.57, 36.53] acc=[94.78,89.30]\n",
            "E28 loss=[ 13.76, 35.60] acc=[94.66,89.47]\n",
            "E29 loss=[ 13.77, 35.36] acc=[94.48,89.11]\n",
            "E30 loss=[ 14.42, 37.65] acc=[94.35,88.80]\n",
            "E31 loss=[ 13.23, 37.70] acc=[94.83,88.85]\n",
            "E32 loss=[ 12.05, 36.83] acc=[95.30,89.42]\n",
            "E33 loss=[ 13.03, 39.44] acc=[94.97,88.84]\n",
            "E34 loss=[ 12.30, 39.03] acc=[95.13,89.21]\n",
            "E35 loss=[ 11.96, 40.65] acc=[95.32,89.17]\n",
            "E36 loss=[ 12.42, 39.98] acc=[95.10,89.01]\n",
            "E37 loss=[ 11.80, 39.85] acc=[95.45,89.02]\n",
            "E38 loss=[ 10.97, 41.06] acc=[95.65,88.99]\n",
            "E39 loss=[ 12.75, 44.67] acc=[95.03,88.70]\n",
            "E40 loss=[ 18.02, 47.07] acc=[92.47,86.38]\n",
            "E41 loss=[ 10.71, 41.10] acc=[95.78,89.21]\n",
            "E42 loss=[ 10.37, 40.87] acc=[95.90,89.50]\n",
            "E43 loss=[  9.95, 41.85] acc=[96.19,89.61]\n",
            "E44 loss=[ 10.74, 45.58] acc=[95.89,89.17]\n",
            "E45 loss=[ 10.27, 48.99] acc=[96.00,89.27]\n",
            "E46 loss=[ 13.05, 48.21] acc=[95.16,88.69]\n",
            "E47 loss=[ 10.03, 46.40] acc=[96.08,88.97]\n",
            "E48 loss=[ 10.97, 51.13] acc=[95.98,89.04]\n",
            "E49 loss=[  9.25, 45.84] acc=[96.36,88.96]\n"
          ]
        }
      ]
    },
    {
      "cell_type": "code",
      "source": [
        "trn_loss, tst_loss = zip(*loss_hist)\n",
        "plt.plot(trn_loss, 'tab:orange', label='trn1 loss')\n",
        "plt.plot(tst_loss, 'tab:red', label='tst1 loss')\n",
        "trn_loss2, tst_loss2 = zip(*loss_hist3)\n",
        "plt.plot(trn_loss2, 'tab:blue', label='trn3 loss')\n",
        "plt.plot(tst_loss2, 'tab:green', label='tst3 loss')\n",
        "plt.legend(loc='upper right')\n",
        "plt.xlabel('época')\n",
        "plt.ylabel('pérdida')\n",
        "plt.show()"
      ],
      "metadata": {
        "colab": {
          "base_uri": "https://localhost:8080/",
          "height": 280
        },
        "id": "WfQQZIEEqAg2",
        "outputId": "99d9b110-b6e7-46d6-d1be-9ac982429395"
      },
      "execution_count": null,
      "outputs": [
        {
          "output_type": "display_data",
          "data": {
            "text/plain": [
              "<Figure size 432x288 with 1 Axes>"
            ],
            "image/png": "[encoded data removed]"
          },
          "metadata": {
            "needs_background": "light"
          }
        }
      ]
    },
    {
      "cell_type": "code",
      "source": [
        "trn_acc, tst_acc = zip(*acc_hist)\n",
        "plt.plot(trn_acc, 'tab:orange', label='trn1 acc')\n",
        "plt.plot(tst_acc, 'tab:red', label='tst1 acc')\n",
        "trn_loss2, tst_loss2 = zip(*acc_hist3)\n",
        "plt.plot(trn_loss2, 'tab:blue', label='trn3 acc')\n",
        "plt.plot(tst_loss2, 'tab:green', label='tst3 acc')\n",
        "plt.legend(loc='lower right')\n",
        "plt.xlabel('época')\n",
        "plt.ylabel('exactitud')\n",
        "plt.show()"
      ],
      "metadata": {
        "colab": {
          "base_uri": "https://localhost:8080/",
          "height": 280
        },
        "id": "ys2HMLQCqA4L",
        "outputId": "8d750db3-9cb2-4d1c-9b7f-df4639f05273"
      },
      "execution_count": null,
      "outputs": [
        {
          "output_type": "display_data",
          "data": {
            "text/plain": [
              "<Figure size 432x288 with 1 Axes>"
            ],
            "image/png": "[encoded data removed]"
          },
          "metadata": {
            "needs_background": "light"
          }
        }
      ]
    },
    {
      "cell_type": "markdown",
      "source": [
        "## Comentarios finales\n",
        "Cambiar los hiperparámetros son de gran utilidad para tratar de mejorar el módelo; sin embargo, puede que no siempre sea tan obvio como cambiarlos. También el agregar más capas ocultas ayuda al modelo aunque sea un poco como hemos visto en las gráficas pero se debe de tomar a consideración el aumento en parámetros que esto implica donde pasa de $203,530$ a $242,762$ por una ligera mejora. A lo mejor en redes y conjuntos de datos más grandes y complejos esta mejora no valga la pena. También es importante mencionar no casarse con una función de activación yo he de confesar que tenía preferencia por la sigmoide pero en este caso ya se pudo observar como se queda atrás de la ReLu.\n"
      ],
      "metadata": {
        "id": "kHfPc-7tqIzx"
      }
    }
  ]
}